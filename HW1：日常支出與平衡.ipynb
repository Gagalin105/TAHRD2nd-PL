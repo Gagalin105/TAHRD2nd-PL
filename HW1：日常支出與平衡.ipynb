{
  "cells": [
    {
      "cell_type": "markdown",
      "metadata": {
        "id": "view-in-github",
        "colab_type": "text"
      },
      "source": [
        "<a href=\"https://colab.research.google.com/github/Gagalin105/TAHRD2nd-PL/blob/main/HW1%EF%BC%9A%E6%97%A5%E5%B8%B8%E6%94%AF%E5%87%BA%E8%88%87%E5%B9%B3%E8%A1%A1.ipynb\" target=\"_parent\"><img src=\"https://colab.research.google.com/assets/colab-badge.svg\" alt=\"Open In Colab\"/></a>"
      ]
    },
    {
      "cell_type": "markdown",
      "metadata": {
        "id": "aGg5VIsZ50Zi"
      },
      "source": [
        "日常支出速算與分攤（作業一）\n",
        "\n",
        "\n",
        "*   輸入種類與數值\n",
        "*   根據種類分類\n",
        "\n",
        "\n",
        "*   計算總收入\n",
        "\n",
        "\n",
        "\n"
      ]
    },
    {
      "cell_type": "markdown",
      "metadata": {
        "id": "df7f7279"
      },
      "source": [
        "# **標頭檔**\n"
      ]
    },
    {
      "cell_type": "code",
      "execution_count": 13,
      "metadata": {
        "id": "38778d21",
        "colab": {
          "base_uri": "https://localhost:8080/",
          "height": 646
        },
        "outputId": "24de0b28-bd36-4aad-8152-839c48ef8805"
      },
      "outputs": [
        {
          "output_type": "stream",
          "name": "stdout",
          "text": [
            "It looks like you are running Gradio on a hosted Jupyter notebook, which requires `share=True`. Automatically setting `share=True` (you can turn this off by setting `share=False` in `launch()` explicitly).\n",
            "\n",
            "Colab notebook detected. To show errors in colab notebook, set debug=True in launch()\n",
            "* Running on public URL: https://d8e1d2cd051626f47e.gradio.live\n",
            "\n",
            "This share link expires in 1 week. For free permanent hosting and GPU upgrades, run `gradio deploy` from the terminal in the working directory to deploy to Hugging Face Spaces (https://huggingface.co/spaces)\n"
          ]
        },
        {
          "output_type": "display_data",
          "data": {
            "text/plain": [
              "<IPython.core.display.HTML object>"
            ],
            "text/html": [
              "<div><iframe src=\"https://d8e1d2cd051626f47e.gradio.live\" width=\"100%\" height=\"500\" allow=\"autoplay; camera; microphone; clipboard-read; clipboard-write;\" frameborder=\"0\" allowfullscreen></iframe></div>"
            ]
          },
          "metadata": {}
        },
        {
          "output_type": "execute_result",
          "data": {
            "text/plain": []
          },
          "metadata": {},
          "execution_count": 13
        }
      ],
      "source": [
        "import pandas as pd\n",
        "from datetime import datetime\n",
        "import re\n",
        "import gspread\n",
        "from google.colab import auth\n",
        "from google.auth import default\n",
        "\n",
        "# Authenticate and authorize gspread\n",
        "auth.authenticate_user()\n",
        "creds, _ = default()\n",
        "gc = gspread.authorize(creds)\n",
        "\n",
        "# Initialize global variables\n",
        "total_income = 0\n",
        "\n",
        "import gradio as gr\n",
        "def greet(name):\n",
        "    return \"Hello \" + name + \"!\"\n",
        "\n",
        "demo = gr.Interface(fn=greet, inputs=\"text\", outputs=\"text\")\n",
        "\n",
        "demo.launch()"
      ]
    },
    {
      "cell_type": "markdown",
      "metadata": {
        "id": "KMgK13gMRT9A"
      },
      "source": [
        "# **函式：輸入**"
      ]
    },
    {
      "cell_type": "code",
      "execution_count": 14,
      "metadata": {
        "id": "70d3cce9"
      },
      "outputs": [],
      "source": [
        "def get_expense_input():\n",
        "    \"\"\"Gets expense details from the user.\"\"\"\n",
        "    date_input = input(\"請輸入日期 (YYYY-MM-DD): \")\n",
        "    time_input = input(\"請輸入時間 (HH:MM): \")\n",
        "    item_input = input(\"請輸入項目: \")\n",
        "    amount_input_str = input(\"請輸入金額: \")\n",
        "    category_input = input(\"請根據先前輸入的項目分類，並輸入對應的數字：1. 收入、2. 吃喝、3. 娛樂: \")\n",
        "\n",
        "    try:\n",
        "        amount_input = float(amount_input_str)\n",
        "    except ValueError:\n",
        "        print(\"無效的金額輸入。請輸入數字。\")\n",
        "        return None, None, None, None, None # Return None for all if amount is invalid\n",
        "\n",
        "    return date_input, time_input, item_input, amount_input, category_input\n",
        "\n",
        "# Modify the add_expense function to accept parameters\n",
        "def add_expense(date_str, time_str, item, amount, category_input):\n",
        "    try:\n",
        "        # Validate and correct date format (YYYY-MM-DD)\n",
        "        date_match = re.match(r'(\\d{4})[=/-](\\d{1,2})[=/-](\\d{1,2})', date_str)\n",
        "        if not date_match:\n",
        "            print(\"日期格式錯誤：請使用 YYYY-MM-DD 格式。\")\n",
        "            return\n",
        "\n",
        "        year, month, day = date_match.groups()\n",
        "        # Attempt to correct month and day if they are single digits\n",
        "        corrected_date_str = f\"{year}-{int(month):02d}-{int(day):02d}\"\n",
        "\n",
        "        # Validate and correct time format (HH:MM)\n",
        "        time_match = re.match(r'^(\\d{1,2}):(\\d{1,2})$', time_str)\n",
        "        if not time_match:\n",
        "            print(\"時間格式錯誤：請使用 HH:MM 格式 (24小時制)。\")\n",
        "            return\n",
        "\n",
        "        hour, minute = time_match.groups()\n",
        "        # Attempt to correct hour and minute if they are single digits and validate values\n",
        "        try:\n",
        "            corrected_time_str = f\"{int(hour):02d}:{int(minute):02d}\"\n",
        "            # Further validation for hour and minute values\n",
        "            if not (0 <= int(hour) <= 23 and 0 <= int(minute) <= 59):\n",
        "                 print(\"時間格式錯誤：請使用 HH:MM 格式 (24小時制)。時或分超出有效範圍。\")\n",
        "                 return\n",
        "        except ValueError:\n",
        "             print(\"時間格式錯誤：請使用 HH:MM 格式 (24小時制)。\")\n",
        "             return\n",
        "\n",
        "\n",
        "        # Combine corrected date and time strings and convert to datetime object\n",
        "        datetime_str = f\"{corrected_date_str} {corrected_time_str}\"\n",
        "        datetime_obj = datetime.strptime(datetime_str, '%Y-%m-%d %H:%M')\n",
        "\n",
        "\n",
        "        # --- Category input and validation (moved from original add_expense) ---\n",
        "        category_map = {'1': '收入', '2': '吃喝', '3': '娛樂'}\n",
        "\n",
        "        if category_input not in category_map:\n",
        "            print(\"無效的分類輸入。請輸入 1, 2, 或 3。\")\n",
        "            return\n",
        "\n",
        "        category = category_map[category_input]\n",
        "        # --- End of category validation ---\n",
        "\n",
        "\n",
        "        # Create a new row as a list for gspread\n",
        "        # Add the category to the list\n",
        "        new_row_list = [datetime_obj.date().strftime('%Y-%m-%d'),\n",
        "                        datetime_obj.time().strftime('%H:%M'),\n",
        "                        item,\n",
        "                        amount,\n",
        "                        category] # Add the category here\n",
        "\n",
        "\n",
        "        # Append the new row to the Google Sheet using gspread\n",
        "        # Use the gc object from the previous cell\n",
        "        sheet = gc.open_by_url(\"https://docs.google.com/spreadsheets/d/1hWNTg2T0acFyg1xrtLd35HZJxOQFrg0bVyBdgcWYTJ4/edit?gid=0#gid=0\")\n",
        "        worksheet = sheet.sheet1 # Assuming the data is in the first sheet\n",
        "\n",
        "        worksheet.append_row(new_row_list)\n",
        "\n",
        "        print(\"Row added to Google Sheet successfully!\")\n",
        "\n",
        "        # --- New code for updating total income ---\n",
        "        global total_income\n",
        "        if category == '收入':\n",
        "            total_income += amount\n",
        "        else:\n",
        "            total_income -= amount\n",
        "\n",
        "        print(f\"目前的總收入為 {total_income} 元\")\n",
        "        # --- End of new code ---\n",
        "\n",
        "\n",
        "        # Optional: Update the DataFrame in memory after writing to the sheet\n",
        "        global df\n",
        "        if 'df' in globals() and isinstance(df, pd.DataFrame):\n",
        "            new_row_dict = {'日期': datetime_obj.date(),\n",
        "                            '時間': datetime_obj.time(),\n",
        "                            '項目': item,\n",
        "                            '金額': amount,\n",
        "                            '類型': category} # Add category to DataFrame dict\n",
        "            # Use pd.concat instead of append for newer pandas version\n",
        "\n",
        "    except ValueError as e:\n",
        "        print(f\"Error adding row: {e}\")\n",
        "        print(\"請確保日期和時間格式正確。\")\n",
        "    except Exception as e:\n",
        "        print(f\"An unexpected error occurred: {e}\")\n",
        "\n",
        "# Example of how to use the functions\n",
        "# date_input, time_input, item_input, amount_input, category_input = get_expense_input()\n",
        "# if all([date_input, time_input, item_input, amount_input is not None, category_input]): # Check if all inputs are valid\n",
        "#     add_expense(date_input, time_input, item_input, amount_input, category_input)"
      ]
    },
    {
      "cell_type": "markdown",
      "metadata": {
        "id": "ZY-qMiSaOUm3"
      },
      "source": [
        "# **函式：menu**"
      ]
    },
    {
      "cell_type": "code",
      "execution_count": 15,
      "metadata": {
        "id": "8BDw6OqHOJQy"
      },
      "outputs": [],
      "source": [
        "def display_menu():\n",
        "    \"\"\"Displays the main menu options to the user.\"\"\"\n",
        "    print(\"\\n請選擇功能：\")\n",
        "    print(\"1. 新增支出/收入\")\n",
        "    print(\"2. 顯示所有記帳項目 (依時間排序)\")\n",
        "    print(\"3. 顯示財務總結\")\n",
        "    print(\"q. 退出\")"
      ]
    },
    {
      "cell_type": "markdown",
      "metadata": {
        "id": "7AqcTM8nDHZ-"
      },
      "source": [
        "# **函式：顯示儲存資料**"
      ]
    },
    {
      "cell_type": "markdown",
      "metadata": {
        "id": "40614ed1"
      },
      "source": [
        "# **顯示時依時間排序**\n"
      ]
    },
    {
      "cell_type": "code",
      "execution_count": 16,
      "metadata": {
        "id": "RzVwavqcDEk1"
      },
      "outputs": [],
      "source": [
        "def display_all_items():\n",
        "    \"\"\"Reads, sorts, and displays all items from the Google Sheet.\"\"\"\n",
        "    # Access the Google Sheet using the gc object and the sheet URL\n",
        "    sheet = gc.open_by_url(\"https://docs.google.com/spreadsheets/d/1hWNTg2T0acFyg1xrtLd35HZJxOQFrg0bVyBdgcWYTJ4/edit?gid=0#gid=0\")\n",
        "    worksheet = sheet.sheet1\n",
        "\n",
        "    # Read all data from the worksheet\n",
        "    data = worksheet.get_all_values()\n",
        "\n",
        "    if len(data) > 1:\n",
        "        df = pd.DataFrame(data[1:], columns=data[0])\n",
        "\n",
        "        # Ensure '金額' column is numeric, coercing errors to NaN\n",
        "        df['金額'] = pd.to_numeric(df['金額'], errors='coerce')\n",
        "        df.dropna(subset=['金額'], inplace=True)\n",
        "\n",
        "        # Ensure '日期' and '時間' columns exist\n",
        "        if '日期' in df.columns and '時間' in df.columns:\n",
        "             # Combine '日期' and '時間' into a single datetime column\n",
        "             df['時間戳記'] = df['日期'] + ' ' + df['時間']\n",
        "             # Convert the '時間戳記' column to datetime objects, handling potential errors\n",
        "             df['時間戳記'] = pd.to_datetime(df['時間戳記'], errors='coerce')\n",
        "             df.dropna(subset=['時間戳記'], inplace=True) # Drop rows with invalid datetime\n",
        "\n",
        "             # Sort the DataFrame by the new '時間戳記' column in ascending order\n",
        "             df = df.sort_values(by='時間戳記', ascending=True)\n",
        "\n",
        "             # Return the DataFrame instead of displaying it here\n",
        "             return df[['日期', '時間', '項目', '金額', '類型']]\n",
        "        else:\n",
        "             print(\"Google Sheet 中缺少 '日期' 或 '時間' 欄位，無法依時間排序顯示。\")\n",
        "             return df # Return unsorted if sorting not possible\n",
        "\n",
        "\n",
        "    else:\n",
        "        print(\"Google Sheet 是空的，沒有記帳項目。\")\n",
        "        return pd.DataFrame(columns=['日期', '時間', '項目', '金額', '類型']) # Return empty DataFrame"
      ]
    },
    {
      "cell_type": "markdown",
      "metadata": {
        "id": "YBcDZvyPNgAF"
      },
      "source": [
        "# **函式：財務總結**"
      ]
    },
    {
      "cell_type": "code",
      "execution_count": 17,
      "metadata": {
        "id": "984797fb"
      },
      "outputs": [],
      "source": [
        "def display_financial_summary():\n",
        "    \"\"\"Reads data and returns the financial summary as a string.\"\"\"\n",
        "    try:\n",
        "        # Access the Google Sheet and read data (similar to display_all_items)\n",
        "        sheet = gc.open_by_url(\"https://docs.google.com/spreadsheets/d/1hWNTg2T0acFyg1xrtLd35HZJxOQFrg0bVyBdgcWYTJ4/edit?gid=0#gid=0\")\n",
        "        worksheet = sheet.sheet1\n",
        "        data = worksheet.get_all_values()\n",
        "\n",
        "        summary_string = \"\"\n",
        "\n",
        "        if len(data) > 1:\n",
        "            df = pd.DataFrame(data[1:], columns=data[0])\n",
        "\n",
        "            # Ensure '金額' column is numeric and '類型' column exists\n",
        "            df['金額'] = pd.to_numeric(df['金額'], errors='coerce')\n",
        "            df.dropna(subset=['金額'], inplace=True)\n",
        "            if '類型' not in df.columns:\n",
        "                df['類型'] = '未知' # Default category if column is missing\n",
        "\n",
        "            # Calculate total income and expenses\n",
        "            total_income = df[df['類型'] == '收入']['金額'].sum()\n",
        "            total_expense = df[df['類型'] != '收入']['金額'].sum()\n",
        "            total_balance = total_income - total_expense\n",
        "\n",
        "            summary_string += \"財務總結:\\n\"\n",
        "            summary_string += f\"總收入: {total_income:.2f} 元\\n\"\n",
        "            summary_string += f\"總支出: {total_expense:.2f} 元\\n\"\n",
        "            summary_string += f\"總餘額: {total_balance:.2f} 元\"\n",
        "        else:\n",
        "            summary_string += \"Google Sheet 是空的，沒有記帳項目可供計算。\\n\"\n",
        "            summary_string += \"財務總結:\\n\"\n",
        "            summary_string += \"總收入: 0.00 元\\n\"\n",
        "            summary_string += \"總支出: 0.00 元\\n\"\n",
        "            summary_string += \"總餘額: 0.00 元\"\n",
        "\n",
        "        return summary_string\n",
        "\n",
        "    except Exception as e:\n",
        "        return f\"計算或顯示財務總結時發生錯誤: {e}\""
      ]
    },
    {
      "cell_type": "markdown",
      "metadata": {
        "id": "SNLlERvuO9-0"
      },
      "source": [
        "# **主迴圈**"
      ]
    },
    {
      "cell_type": "code",
      "execution_count": 18,
      "metadata": {
        "id": "t1M8GyeyO84f",
        "colab": {
          "base_uri": "https://localhost:8080/"
        },
        "outputId": "befa3a40-5bd1-4f40-fb24-350bf7b23259"
      },
      "outputs": [
        {
          "output_type": "stream",
          "name": "stdout",
          "text": [
            "\n",
            "請選擇功能：\n",
            "1. 新增支出/收入\n",
            "2. 顯示所有記帳項目 (依時間排序)\n",
            "3. 顯示財務總結\n",
            "q. 退出\n",
            "請輸入您的選擇: q\n",
            "程式結束。\n"
          ]
        }
      ],
      "source": [
        "# Define the display_menu function here as it's called in this cell\n",
        "def display_menu():\n",
        "    \"\"\"Displays the main menu options to the user.\"\"\"\n",
        "    print(\"\\n請選擇功能：\")\n",
        "    print(\"1. 新增支出/收入\")\n",
        "    print(\"2. 顯示所有記帳項目 (依時間排序)\")\n",
        "    print(\"3. 顯示財務總結\")\n",
        "    print(\"q. 退出\")\n",
        "\n",
        "while True:\n",
        "    display_menu()\n",
        "    choice = input(\"請輸入您的選擇: \").lower()\n",
        "\n",
        "    if choice == '1':\n",
        "        date_input, time_input, item_input, amount_input, category_input = get_expense_input()\n",
        "        if all([date_input, time_input, item_input, amount_input is not None, category_input]):\n",
        "            add_expense(date_input, time_input, item_input, amount_input, category_input)\n",
        "        else:\n",
        "            print(\"輸入無效，請重試。\")\n",
        "    elif choice == '2':\n",
        "        # Call display_all_items and handle the returned DataFrame\n",
        "        df_items = display_all_items()\n",
        "        if not df_items.empty:\n",
        "            print(\"\\n所有記帳項目 (依時間排序):\")\n",
        "            display(df_items) # Use display() for better formatting in Colab\n",
        "        else:\n",
        "            print(\"Google Sheet 是空的，沒有記帳項目。\")\n",
        "    elif choice == '3':\n",
        "        # Call display_financial_summary and print the returned summary string\n",
        "        summary_string = display_financial_summary()\n",
        "        print(\"\\n\" + summary_string) # Add a newline before printing the summary\n",
        "    elif choice == 'q':\n",
        "        print(\"程式結束。\")\n",
        "        break\n",
        "    else:\n",
        "        print(\"無效的選擇，請重新輸入。\")"
      ]
    },
    {
      "cell_type": "code",
      "execution_count": 19,
      "metadata": {
        "id": "d0d51817"
      },
      "outputs": [],
      "source": [
        "import matplotlib.pyplot as plt\n",
        "import io\n",
        "import base64\n",
        "\n",
        "def create_pie_chart(expense_by_category):\n",
        "    \"\"\"Creates a pie chart from the expense by category data.\"\"\"\n",
        "    if not expense_by_category:\n",
        "        # Return None or handle empty data case\n",
        "        return None\n",
        "\n",
        "    labels = expense_by_category.keys()\n",
        "    sizes = expense_by_category.values()\n",
        "    colors = ['gold', 'yellowgreen', 'lightcoral', 'lightskyblue', 'lightgreen'] # Example colors\n",
        "\n",
        "    fig1, ax1 = plt.subplots()\n",
        "    ax1.pie(sizes, labels=labels, autopct='%1.1f%%', startangle=90, colors=colors)\n",
        "    ax1.axis('equal')  # Equal aspect ratio ensures that pie is drawn as a circle.\n",
        "\n",
        "    # Save the plot to a bytes object\n",
        "    buf = io.BytesIO()\n",
        "    plt.savefig(buf, format='png')\n",
        "    buf.seek(0)\n",
        "    plt.close(fig1) # Close the plot to free up memory\n",
        "\n",
        "    return buf\n",
        "\n",
        "# Modify display_financial_summary_ui to also return the plot\n",
        "def display_financial_summary_ui():\n",
        "    \"\"\"Calls the financial summary function and prepares data and plot for UI display.\"\"\"\n",
        "    summary_data = display_financial_summary()\n",
        "\n",
        "    # Format the summary data into a string for the Textbox output\n",
        "    summary_string = f\"財務總結:\\n\"\n",
        "    summary_string += f\"總收入: {summary_data['total_income']:.2f} 元\\n\"\n",
        "    summary_string += f\"總支出: {summary_data['total_expense']:.2f} 元\\n\"\n",
        "    summary_string += f\"總餘額: {summary_data['total_balance']:.2f} 元\\n\\n\"\n",
        "\n",
        "    summary_string += \"各分類支出:\\n\"\n",
        "    if summary_data['expense_by_category']:\n",
        "        for category, amount in summary_data['expense_by_category'].items():\n",
        "            summary_string += f\"{category}: {amount:.2f} 元\\n\"\n",
        "    else:\n",
        "        summary_string += \"無分類支出資料。\"\n",
        "\n",
        "    # Create the pie chart\n",
        "    pie_chart = create_pie_chart(summary_data['expense_by_category'])\n",
        "\n",
        "    # Return both the summary string and the pie chart (BytesIO object)\n",
        "    return summary_string, pie_chart"
      ]
    },
    {
      "cell_type": "code",
      "execution_count": 20,
      "metadata": {
        "id": "ce529737",
        "colab": {
          "base_uri": "https://localhost:8080/",
          "height": 698
        },
        "outputId": "05ba3a8b-0521-4ba6-f8c2-5cde6437a2eb"
      },
      "outputs": [
        {
          "output_type": "stream",
          "name": "stdout",
          "text": [
            "It looks like you are running Gradio on a hosted Jupyter notebook, which requires `share=True`. Automatically setting `share=True` (you can turn this off by setting `share=False` in `launch()` explicitly).\n",
            "\n",
            "Colab notebook detected. This cell will run indefinitely so that you can see errors and logs. To turn off, set debug=False in launch().\n",
            "* Running on public URL: https://3f450d8ff295ddd4fd.gradio.live\n",
            "\n",
            "This share link expires in 1 week. For free permanent hosting and GPU upgrades, run `gradio deploy` from the terminal in the working directory to deploy to Hugging Face Spaces (https://huggingface.co/spaces)\n"
          ]
        },
        {
          "output_type": "display_data",
          "data": {
            "text/plain": [
              "<IPython.core.display.HTML object>"
            ],
            "text/html": [
              "<div><iframe src=\"https://3f450d8ff295ddd4fd.gradio.live\" width=\"100%\" height=\"500\" allow=\"autoplay; camera; microphone; clipboard-read; clipboard-write;\" frameborder=\"0\" allowfullscreen></iframe></div>"
            ]
          },
          "metadata": {}
        },
        {
          "output_type": "stream",
          "name": "stdout",
          "text": [
            "Keyboard interruption in main thread... closing server.\n",
            "Killing tunnel 127.0.0.1:7861 <> https://d8e1d2cd051626f47e.gradio.live\n",
            "Killing tunnel 127.0.0.1:7862 <> https://3f450d8ff295ddd4fd.gradio.live\n"
          ]
        },
        {
          "output_type": "execute_result",
          "data": {
            "text/plain": []
          },
          "metadata": {},
          "execution_count": 20
        }
      ],
      "source": [
        "# Import the necessary Gradio library (already imported in cell 38778d21, but good practice to include where used)\n",
        "import gradio as gr\n",
        "\n",
        "# Define a function that will be called by Gradio to handle adding an expense\n",
        "# This function will take inputs from the Gradio interface and call your add_expense function\n",
        "def add_expense_ui(date_str, time_str, item, amount_str, category_input):\n",
        "    try:\n",
        "        amount = float(amount_str)\n",
        "        # Call the existing add_expense function\n",
        "        add_expense(date_str, time_str, item, amount, category_input)\n",
        "        return \"新增記帳項目成功！\"\n",
        "    except ValueError:\n",
        "        return \"金額輸入無效。請輸入數字。\"\n",
        "    except Exception as e:\n",
        "        return f\"新增記帳項目時發生錯誤: {e}\"\n",
        "\n",
        "# Define a function to display all items\n",
        "def display_all_items_ui():\n",
        "    # Call the existing display_all_items function which now returns the DataFrame\n",
        "    df_items = display_all_items()\n",
        "    # Return the DataFrame for Gradio to display\n",
        "    return df_items\n",
        "\n",
        "# Define a function to display the financial summary\n",
        "def display_financial_summary_ui():\n",
        "     # Call the existing display_financial_summary function\n",
        "    display_financial_summary()\n",
        "    # Similar to display_all_items_ui, assuming display_financial_summary handles output.\n",
        "    return \"已在控制台顯示財務總結。\" # Return a simple message for the UI\n",
        "\n",
        "# Create the Gradio Interface\n",
        "# We will create separate interfaces or a tabbed interface for different functionalities later if needed.\n",
        "# Let's start with the 'Add Expense' interface.\n",
        "\n",
        "add_expense_interface = gr.Interface(\n",
        "    fn=add_expense_ui, # The function to call when the interface is used\n",
        "    inputs=[\n",
        "        gr.Textbox(label=\"日期 (YYYY-MM-DD)\"),\n",
        "        gr.Textbox(label=\"時間 (HH:MM)\"),\n",
        "        gr.Textbox(label=\"項目\"),\n",
        "        gr.Textbox(label=\"金額\"),\n",
        "        gr.Radio(['1', '2', '3'], label=\"分類：1. 收入、2. 吃喝、3. 娛樂\") # Use Radio for categories\n",
        "    ],\n",
        "    outputs=\"text\", # The output will be text indicating success or failure\n",
        "    title=\"新增支出/收入\",\n",
        "    description=\"請輸入您的記帳項目詳細資訊。\"\n",
        ")\n",
        "\n",
        "# You can create separate interfaces for other functions\n",
        "display_items_interface = gr.Interface(\n",
        "    fn=display_all_items_ui,\n",
        "    inputs=None, # No inputs needed to display all items\n",
        "    # Change the output to gr.DataFrame to display the returned DataFrame\n",
        "    outputs=gr.DataFrame(label=\"所有記帳項目 (依時間排序)\"),\n",
        "    title=\"顯示所有記帳項目\",\n",
        "    description=\"點擊按鈕顯示所有記帳項目 (依時間排序)。\"\n",
        ")\n",
        "\n",
        "financial_summary_interface = gr.Interface(\n",
        "    fn=display_financial_summary_ui,\n",
        "    inputs=None, # No inputs needed\n",
        "    outputs=\"text\", # Output a message\n",
        "    title=\"顯示財務總結\",\n",
        "    description=\"點擊按鈕顯示財務總結 (將顯示在控制台)。\"\n",
        ")\n",
        "\n",
        "\n",
        "# To present these as a single application with tabs, we can use gr.TabbedInterface or gr.Blocks\n",
        "# Let's use gr.TabbedInterface for simplicity\n",
        "tabbed_interface = gr.TabbedInterface(\n",
        "    [add_expense_interface, display_items_interface, financial_summary_interface],\n",
        "    [\"新增支出/收入\", \"顯示所有記帳項目\", \"顯示財務總結\"]\n",
        ")\n",
        "\n",
        "\n",
        "# Launch the Gradio app\n",
        "tabbed_interface.launch(debug=True) # Set debug=True for more detailed error messages"
      ]
    },
    {
      "cell_type": "markdown",
      "metadata": {
        "id": "fb22237d"
      },
      "source": [
        "# Task\n",
        "Modify the Gradio interface to display the accounting items table automatically when the \"Display All Items\" tab is selected, instead of requiring a button click."
      ]
    },
    {
      "cell_type": "markdown",
      "metadata": {
        "id": "d7eba6bf"
      },
      "source": [
        "## 修改 `display all items ui` 函式\n",
        "\n",
        "### Subtask:\n",
        "確認 `display_all_items_ui` 函式正確地讀取資料並返回 DataFrame。\n"
      ]
    },
    {
      "cell_type": "markdown",
      "metadata": {
        "id": "1274e6a9"
      },
      "source": [
        "**Reasoning**:\n",
        "Review the `display_all_items_ui` and `display_all_items` functions to confirm that `display_all_items` reads data and returns a DataFrame and that `display_all_items_ui` correctly returns this DataFrame.\n",
        "\n"
      ]
    },
    {
      "cell_type": "code",
      "execution_count": 21,
      "metadata": {
        "id": "387f717d",
        "colab": {
          "base_uri": "https://localhost:8080/"
        },
        "outputId": "31586a88-26e2-4cec-f834-86c5fd28d15c"
      },
      "outputs": [
        {
          "output_type": "stream",
          "name": "stdout",
          "text": [
            "Reviewed display_all_items and display_all_items_ui functions. They are set up to read data and return a DataFrame as required.\n"
          ]
        }
      ],
      "source": [
        "# Reviewing the display_all_items function\n",
        "# It connects to Google Sheet, reads data, creates a DataFrame,\n",
        "# processes '金額', '日期', and '時間' columns, sorts by '時間戳記',\n",
        "# and returns a DataFrame with selected columns. This seems correct.\n",
        "\n",
        "# Reviewing the display_all_items_ui function\n",
        "# It calls display_all_items() and returns the result. This also seems correct.\n",
        "\n",
        "# No changes are needed to these functions for this specific subtask as they already\n",
        "# perform the required actions of reading data and returning a DataFrame.\n",
        "print(\"Reviewed display_all_items and display_all_items_ui functions. They are set up to read data and return a DataFrame as required.\")"
      ]
    },
    {
      "cell_type": "markdown",
      "metadata": {
        "id": "0fa1572d"
      },
      "source": [
        "## 轉換為 `gr.blocks`\n",
        "\n",
        "### Subtask:\n",
        "將目前的 `gr.TabbedInterface` 結構轉換為使用 `gr.Blocks` 來構建分頁介面。\n"
      ]
    },
    {
      "cell_type": "markdown",
      "metadata": {
        "id": "47a916e6"
      },
      "source": [
        "**Reasoning**:\n",
        "The subtask requires converting the Gradio interface from `gr.TabbedInterface` to `gr.Blocks`. This involves removing the old interface code and creating a new structure using `gr.Blocks`, `gr.Tabs`, and `gr.TabItem` for each functionality.\n",
        "\n"
      ]
    },
    {
      "cell_type": "code",
      "execution_count": 22,
      "metadata": {
        "id": "f56d3683"
      },
      "outputs": [],
      "source": [
        "# Remove the existing gr.TabbedInterface creation and launch code\n",
        "# This part is commented out as we are replacing it with gr.Blocks\n",
        "# tabbed_interface = gr.TabbedInterface(\n",
        "#     [add_expense_interface, display_items_interface, financial_summary_interface],\n",
        "#     [\"新增支出/收入\", \"顯示所有記帳項目\", \"顯示財務總結\"]\n",
        "# )\n",
        "# tabbed_interface.launch(debug=True)\n",
        "\n",
        "# Create a new Blocks app instance\n",
        "with gr.Blocks() as demo_blocks:\n",
        "    # Create a tabbed container\n",
        "    with gr.Tabs() as tabs:\n",
        "        # Create a TabItem for adding expense\n",
        "        with gr.TabItem(\"新增支出/收入\"):\n",
        "            # Place the components for adding expense here\n",
        "            # These components are based on the original add_expense_interface inputs\n",
        "            gr.Textbox(label=\"日期 (YYYY-MM-DD)\"),\n",
        "            gr.Textbox(label=\"時間 (HH:MM)\"),\n",
        "            gr.Textbox(label=\"項目\"),\n",
        "            gr.Textbox(label=\"金額\"),\n",
        "            gr.Radio(['1', '2', '3'], label=\"分類：1. 收入、2. 吃喝、3. 娛樂\"),\n",
        "            gr.Button(\"新增項目\") # Add a button to trigger the add_expense_ui function\n",
        "\n",
        "        # Create a TabItem for displaying all items\n",
        "        with gr.TabItem(\"顯示所有記帳項目\"):\n",
        "            # Place the components for displaying all items here\n",
        "            # The display_items_interface didn't have inputs, only output\n",
        "            # We will add a button here to trigger the display for now\n",
        "            gr.Button(\"顯示所有項目\")\n",
        "            # The output will be a DataFrame, but we are just structuring now\n",
        "            gr.DataFrame(label=\"所有記帳項目 (依時間排序)\") # Placeholder for the output DataFrame\n",
        "\n",
        "\n",
        "        # Create a TabItem for displaying financial summary\n",
        "        with gr.TabItem(\"顯示財務總結\"):\n",
        "             # Place the components for displaying financial summary here\n",
        "             # financial_summary_interface had no inputs, only output\n",
        "             gr.Button(\"顯示財務總結\")\n",
        "             gr.Textbox(label=\"財務總結\") # Placeholder for the output text\n",
        "\n",
        "# Launch the Blocks app (optional for this step, but good for testing structure)\n",
        "# demo_blocks.launch(debug=True)"
      ]
    },
    {
      "cell_type": "markdown",
      "metadata": {
        "id": "5f322aa2"
      },
      "source": [
        "## 定義 gradio 元件\n",
        "\n",
        "### Subtask:\n",
        "在 `gr.Blocks` 中明確定義每個分頁所需的 Gradio 元件，包括用於顯示表格的 `gr.DataFrame`。\n"
      ]
    },
    {
      "cell_type": "markdown",
      "metadata": {
        "id": "10480ca8"
      },
      "source": [
        "**Reasoning**:\n",
        "Based on the instructions and the previous step, I need to ensure that the `gr.Blocks` structure correctly defines all necessary input and output components for each tab with appropriate labels, including buttons to trigger actions and `gr.DataFrame` for displaying the table. I will refine the components within each `gr.TabItem` as specified.\n",
        "\n"
      ]
    },
    {
      "cell_type": "code",
      "execution_count": 23,
      "metadata": {
        "id": "c9c8e957"
      },
      "outputs": [],
      "source": [
        "# Create a new Blocks app instance\n",
        "with gr.Blocks() as demo_blocks:\n",
        "    # Create a tabbed container\n",
        "    with gr.Tabs() as tabs:\n",
        "        # Create a TabItem for adding expense\n",
        "        with gr.TabItem(\"新增支出/收入\"):\n",
        "            # Define inputs for adding expense\n",
        "            add_date_input = gr.Textbox(label=\"日期 (YYYY-MM-DD)\")\n",
        "            add_time_input = gr.Textbox(label=\"時間 (HH:MM)\")\n",
        "            add_item_input = gr.Textbox(label=\"項目\")\n",
        "            add_amount_input = gr.Textbox(label=\"金額\")\n",
        "            add_category_input = gr.Radio(['1', '2', '3'], label=\"分類：1. 收入、2. 吃喝、3. 娛樂\")\n",
        "            # Define a button to trigger the add expense function\n",
        "            add_expense_button = gr.Button(\"新增項目\")\n",
        "            # Define the output for the add expense function\n",
        "            add_expense_output = gr.Textbox(label=\"結果\")\n",
        "\n",
        "\n",
        "        # Create a TabItem for displaying all items\n",
        "        with gr.TabItem(\"顯示所有記帳項目\"):\n",
        "            # Define a button to trigger displaying all items\n",
        "            display_items_button = gr.Button(\"顯示所有項目\")\n",
        "            # Define the output as a DataFrame to display the items\n",
        "            display_items_output = gr.DataFrame(label=\"所有記帳項目 (依時間排序)\")\n",
        "\n",
        "\n",
        "        # Create a TabItem for displaying financial summary\n",
        "        with gr.TabItem(\"顯示財務總結\"):\n",
        "             # Define a button to trigger displaying the summary\n",
        "             display_summary_button = gr.Button(\"顯示財務總結\")\n",
        "             # Define the output as a Textbox to display the summary (which is printed to console by the function)\n",
        "             # We'll keep a Textbox placeholder here for potential future direct display in UI\n",
        "             display_summary_output = gr.Textbox(label=\"財務總結結果 (請查看控制台)\")\n",
        "\n",
        "# Note: We are not connecting the backend logic (functions) to these components yet.\n",
        "# That will be done in a subsequent step. This step is purely about defining the UI components."
      ]
    },
    {
      "cell_type": "markdown",
      "metadata": {
        "id": "186f885e"
      },
      "source": [
        "## 處理分頁切換事件\n",
        "\n",
        "### Subtask:\n",
        "使用 Gradio 的事件處理機制（例如 `gr.Tabs` 的 `select` 事件）來偵測使用者何時切換到「顯示所有記帳項目」分頁。\n"
      ]
    },
    {
      "cell_type": "markdown",
      "metadata": {
        "id": "38e5fccd"
      },
      "source": [
        "**Reasoning**:\n",
        "Use gr.Blocks and gr.Tabs to structure the interface and then use the .select() method on the tabs object to trigger the display_all_items_ui function when the second tab (index 1) is selected.\n",
        "\n"
      ]
    },
    {
      "cell_type": "code",
      "execution_count": 24,
      "metadata": {
        "id": "a186392b",
        "colab": {
          "base_uri": "https://localhost:8080/",
          "height": 680
        },
        "outputId": "d94ec34f-af50-45c1-b0c8-8657f80042b6"
      },
      "outputs": [
        {
          "output_type": "stream",
          "name": "stdout",
          "text": [
            "It looks like you are running Gradio on a hosted Jupyter notebook, which requires `share=True`. Automatically setting `share=True` (you can turn this off by setting `share=False` in `launch()` explicitly).\n",
            "\n",
            "Colab notebook detected. This cell will run indefinitely so that you can see errors and logs. To turn off, set debug=False in launch().\n",
            "* Running on public URL: https://35cd7820277e454115.gradio.live\n",
            "\n",
            "This share link expires in 1 week. For free permanent hosting and GPU upgrades, run `gradio deploy` from the terminal in the working directory to deploy to Hugging Face Spaces (https://huggingface.co/spaces)\n"
          ]
        },
        {
          "output_type": "display_data",
          "data": {
            "text/plain": [
              "<IPython.core.display.HTML object>"
            ],
            "text/html": [
              "<div><iframe src=\"https://35cd7820277e454115.gradio.live\" width=\"100%\" height=\"500\" allow=\"autoplay; camera; microphone; clipboard-read; clipboard-write;\" frameborder=\"0\" allowfullscreen></iframe></div>"
            ]
          },
          "metadata": {}
        },
        {
          "output_type": "stream",
          "name": "stdout",
          "text": [
            "Keyboard interruption in main thread... closing server.\n",
            "Killing tunnel 127.0.0.1:7862 <> https://35cd7820277e454115.gradio.live\n"
          ]
        },
        {
          "output_type": "execute_result",
          "data": {
            "text/plain": []
          },
          "metadata": {},
          "execution_count": 24
        }
      ],
      "source": [
        "# Create a new Blocks app instance\n",
        "with gr.Blocks() as demo_blocks:\n",
        "    # Create a tabbed container\n",
        "    with gr.Tabs() as tabs:\n",
        "        # Create a TabItem for adding expense\n",
        "        with gr.TabItem(\"新增支出/收入\", id=0):\n",
        "            # Define inputs for adding expense\n",
        "            add_date_input = gr.Textbox(label=\"日期 (YYYY-MM-DD)\")\n",
        "            add_time_input = gr.Textbox(label=\"時間 (HH:MM)\")\n",
        "            add_item_input = gr.Textbox(label=\"項目\")\n",
        "            add_amount_input = gr.Textbox(label=\"金額\")\n",
        "            add_category_input = gr.Radio(['1', '2', '3'], label=\"分類：1. 收入、2. 吃喝、3. 娛樂\")\n",
        "            # Define a button to trigger the add expense function\n",
        "            add_expense_button = gr.Button(\"新增項目\")\n",
        "            # Define the output for the add expense function\n",
        "            add_expense_output = gr.Textbox(label=\"結果\")\n",
        "\n",
        "            # Link the button click to the add_expense_ui function\n",
        "            add_expense_button.click(\n",
        "                fn=add_expense_ui,\n",
        "                inputs=[add_date_input, add_time_input, add_item_input, add_amount_input, add_category_input],\n",
        "                outputs=add_expense_output\n",
        "            )\n",
        "\n",
        "\n",
        "        # Create a TabItem for displaying all items\n",
        "        with gr.TabItem(\"顯示所有記帳項目\", id=1) as display_items_tab:\n",
        "            # Define the output as a DataFrame to display the items\n",
        "            display_items_output = gr.DataFrame(label=\"所有記帳項目 (依時間排序)\")\n",
        "\n",
        "        # Create a TabItem for displaying financial summary\n",
        "        with gr.TabItem(\"顯示財務總結\", id=2):\n",
        "             # Define the output as a Textbox to display the summary (which is printed to console by the function)\n",
        "             # We'll keep a Textbox placeholder here for potential future direct display in UI\n",
        "             display_summary_output = gr.Textbox(label=\"財務總結結果 (請查看控制台)\")\n",
        "             # Add a button to trigger displaying the summary\n",
        "             display_summary_button = gr.Button(\"顯示財務總結\")\n",
        "             display_summary_button.click(\n",
        "                 fn=display_financial_summary_ui,\n",
        "                 inputs=None,\n",
        "                 outputs=display_summary_output\n",
        "             )\n",
        "\n",
        "    # Use the .select() method on the tabs object to trigger an action when a tab is selected\n",
        "    # The index for \"顯示所有記帳項目\" is 1 (0-indexed)\n",
        "    tabs.select(\n",
        "        fn=display_all_items_ui,\n",
        "        inputs=None, # No inputs needed for display_all_items_ui\n",
        "        outputs=display_items_output, # The output DataFrame will be updated\n",
        "        queue=False # Setting queue to False for immediate execution on select\n",
        "    )\n",
        "\n",
        "\n",
        "# Launch the Blocks app\n",
        "demo_blocks.launch(debug=True)"
      ]
    },
    {
      "cell_type": "code",
      "metadata": {
        "colab": {
          "base_uri": "https://localhost:8080/"
        },
        "id": "27171996",
        "outputId": "1f52e3dc-8516-43d8-e30d-8df2c1a3d7a4"
      },
      "source": [
        "# Install a Chinese font\n",
        "!sudo apt-get update\n",
        "!sudo apt-get install fonts-wqy-zenhei -y # Add -y to automatically answer yes\n",
        "\n",
        "# Clear matplotlib cache by removing the cache directory\n",
        "# Find the matplotlib cache directory\n",
        "import matplotlib as mpl\n",
        "import os\n",
        "cache_dir = mpl.get_cachedir()\n",
        "font_cache_dir = os.path.join(cache_dir, 'fontc')\n",
        "\n",
        "# Remove the font cache directory if it exists\n",
        "if os.path.exists(font_cache_dir):\n",
        "    print(f\"Removing font cache directory: {font_cache_dir}\")\n",
        "    !rm -rf \"$font_cache_dir\"\n",
        "else:\n",
        "    print(\"Matplotlib font cache directory not found.\")\n",
        "\n",
        "# Set font properties\n",
        "plt.rcParams['font.family'] = 'WenQuanYi Zen Hei'\n",
        "plt.rcParams['axes.unicode_minus'] = False # Correctly display minus signs\n",
        "\n",
        "print(\"Chinese font configured for Matplotlib.\")"
      ],
      "execution_count": 30,
      "outputs": [
        {
          "output_type": "stream",
          "name": "stdout",
          "text": [
            "\r0% [Working]\r            \rHit:1 http://security.ubuntu.com/ubuntu jammy-security InRelease\n",
            "Hit:2 https://cloud.r-project.org/bin/linux/ubuntu jammy-cran40/ InRelease\n",
            "Hit:3 https://cli.github.com/packages stable InRelease\n",
            "Hit:4 https://developer.download.nvidia.com/compute/cuda/repos/ubuntu2204/x86_64  InRelease\n",
            "Hit:5 http://archive.ubuntu.com/ubuntu jammy InRelease\n",
            "Hit:6 https://r2u.stat.illinois.edu/ubuntu jammy InRelease\n",
            "Hit:7 http://archive.ubuntu.com/ubuntu jammy-updates InRelease\n",
            "Hit:8 http://archive.ubuntu.com/ubuntu jammy-backports InRelease\n",
            "Hit:9 https://ppa.launchpadcontent.net/deadsnakes/ppa/ubuntu jammy InRelease\n",
            "Hit:10 https://ppa.launchpadcontent.net/graphics-drivers/ppa/ubuntu jammy InRelease\n",
            "Hit:11 https://ppa.launchpadcontent.net/ubuntugis/ppa/ubuntu jammy InRelease\n",
            "Reading package lists... Done\n",
            "W: Skipping acquire of configured file 'main/source/Sources' as repository 'https://r2u.stat.illinois.edu/ubuntu jammy InRelease' does not seem to provide it (sources.list entry misspelt?)\n",
            "Reading package lists... Done\n",
            "Building dependency tree... Done\n",
            "Reading state information... Done\n",
            "fonts-wqy-zenhei is already the newest version (0.9.45-8).\n",
            "0 upgraded, 0 newly installed, 0 to remove and 40 not upgraded.\n",
            "Matplotlib font cache directory not found.\n",
            "Chinese font configured for Matplotlib.\n"
          ]
        }
      ]
    },
    {
      "cell_type": "markdown",
      "metadata": {
        "id": "3ca2d588"
      },
      "source": [
        "**Reasoning**:\n",
        "The traceback indicates that the `gr.Tabs.select()` method does not accept the `every` parameter. I need to remove this parameter from the `.select()` call.\n",
        "\n"
      ]
    },
    {
      "cell_type": "code",
      "execution_count": 31,
      "metadata": {
        "colab": {
          "base_uri": "https://localhost:8080/",
          "height": 1000
        },
        "id": "1VaYet7JNe9f",
        "outputId": "24f423ae-56de-4002-bdea-678da77b93cd"
      },
      "outputs": [
        {
          "output_type": "stream",
          "name": "stdout",
          "text": [
            "It looks like you are running Gradio on a hosted Jupyter notebook, which requires `share=True`. Automatically setting `share=True` (you can turn this off by setting `share=False` in `launch()` explicitly).\n",
            "\n",
            "Colab notebook detected. This cell will run indefinitely so that you can see errors and logs. To turn off, set debug=False in launch().\n",
            "* Running on public URL: https://2b2ce6ad1444f3c1cb.gradio.live\n",
            "\n",
            "This share link expires in 1 week. For free permanent hosting and GPU upgrades, run `gradio deploy` from the terminal in the working directory to deploy to Hugging Face Spaces (https://huggingface.co/spaces)\n"
          ]
        },
        {
          "output_type": "display_data",
          "data": {
            "text/plain": [
              "<IPython.core.display.HTML object>"
            ],
            "text/html": [
              "<div><iframe src=\"https://2b2ce6ad1444f3c1cb.gradio.live\" width=\"100%\" height=\"500\" allow=\"autoplay; camera; microphone; clipboard-read; clipboard-write;\" frameborder=\"0\" allowfullscreen></iframe></div>"
            ]
          },
          "metadata": {}
        },
        {
          "output_type": "stream",
          "name": "stdout",
          "text": [
            "display_financial_summary_ui: Starting.\n",
            "display_financial_summary: Attempting to access Google Sheet.\n"
          ]
        },
        {
          "output_type": "stream",
          "name": "stderr",
          "text": [
            "WARNING:matplotlib.font_manager:findfont: Font family 'WenQuanYi Zen Hei' not found.\n",
            "WARNING:matplotlib.font_manager:findfont: Font family 'WenQuanYi Zen Hei' not found.\n",
            "WARNING:matplotlib.font_manager:findfont: Font family 'WenQuanYi Zen Hei' not found.\n",
            "WARNING:matplotlib.font_manager:findfont: Font family 'WenQuanYi Zen Hei' not found.\n",
            "/usr/local/lib/python3.12/dist-packages/gradio/processing_utils.py:81: UserWarning: Glyph 21507 (\\N{CJK UNIFIED IDEOGRAPH-5403}) missing from font(s) DejaVu Sans.\n",
            "  plt.savefig(output_bytes, format=fmt)\n",
            "/usr/local/lib/python3.12/dist-packages/gradio/processing_utils.py:81: UserWarning: Glyph 21917 (\\N{CJK UNIFIED IDEOGRAPH-559D}) missing from font(s) DejaVu Sans.\n",
            "  plt.savefig(output_bytes, format=fmt)\n",
            "WARNING:matplotlib.font_manager:findfont: Font family 'WenQuanYi Zen Hei' not found.\n",
            "WARNING:matplotlib.font_manager:findfont: Font family 'WenQuanYi Zen Hei' not found.\n",
            "WARNING:matplotlib.font_manager:findfont: Font family 'WenQuanYi Zen Hei' not found.\n",
            "WARNING:matplotlib.font_manager:findfont: Font family 'WenQuanYi Zen Hei' not found.\n",
            "/usr/local/lib/python3.12/dist-packages/gradio/processing_utils.py:81: UserWarning: Glyph 23067 (\\N{CJK UNIFIED IDEOGRAPH-5A1B}) missing from font(s) DejaVu Sans.\n",
            "  plt.savefig(output_bytes, format=fmt)\n",
            "/usr/local/lib/python3.12/dist-packages/gradio/processing_utils.py:81: UserWarning: Glyph 27138 (\\N{CJK UNIFIED IDEOGRAPH-6A02}) missing from font(s) DejaVu Sans.\n",
            "  plt.savefig(output_bytes, format=fmt)\n",
            "WARNING:matplotlib.font_manager:findfont: Font family 'WenQuanYi Zen Hei' not found.\n",
            "WARNING:matplotlib.font_manager:findfont: Font family 'WenQuanYi Zen Hei' not found.\n",
            "WARNING:matplotlib.font_manager:findfont: Font family 'WenQuanYi Zen Hei' not found.\n"
          ]
        },
        {
          "output_type": "stream",
          "name": "stdout",
          "text": [
            "display_financial_summary: Successfully read 14 rows from sheet.\n",
            "display_financial_summary: Creating DataFrame.\n",
            "display_financial_summary: DataFrame created with columns: ['日期', '時間', '項目', '金額', '類型']\n",
            "display_financial_summary: Converting '金額' to numeric.\n",
            "display_financial_summary: After numeric conversion and dropna, 13 rows remain.\n",
            "display_financial_summary: '類型' column exists or defaulted.\n",
            "display_financial_summary: Calculating totals.\n",
            "display_financial_summary: Totals calculated - Income: 10060, Expense: 4505, Balance: 5555\n",
            "display_financial_summary: Calculating expenses by category.\n",
            "display_financial_summary: Expenses by category: {'': 100, '吃喝': 2728, '娛樂': 1677}\n",
            "display_financial_summary: Returning financial data.\n",
            "display_financial_summary_ui: display_financial_summary called.\n",
            "display_financial_summary_ui: Summary string formatted.\n",
            "display_financial_summary_ui: Attempting to create pie chart.\n",
            "create_pie_chart: Received data: {'': 100, '吃喝': 2728, '娛樂': 1677}\n",
            "create_pie_chart: Creating plot figure.\n",
            "create_pie_chart: Plot figure created.\n",
            "create_pie_chart: Returning Figure object.\n",
            "display_financial_summary_ui: create_pie_chart returned type: <class 'matplotlib.figure.Figure'>\n",
            "display_financial_summary_ui: Returning results.\n",
            "Keyboard interruption in main thread... closing server.\n",
            "Killing tunnel 127.0.0.1:7862 <> https://2b2ce6ad1444f3c1cb.gradio.live\n"
          ]
        },
        {
          "output_type": "execute_result",
          "data": {
            "text/plain": []
          },
          "metadata": {},
          "execution_count": 31
        },
        {
          "output_type": "stream",
          "name": "stderr",
          "text": [
            "WARNING:matplotlib.font_manager:findfont: Font family 'WenQuanYi Zen Hei' not found.\n",
            "WARNING:matplotlib.font_manager:findfont: Font family 'WenQuanYi Zen Hei' not found.\n",
            "/usr/local/lib/python3.12/dist-packages/IPython/core/events.py:89: UserWarning: Glyph 21507 (\\N{CJK UNIFIED IDEOGRAPH-5403}) missing from font(s) DejaVu Sans.\n",
            "  func(*args, **kwargs)\n",
            "/usr/local/lib/python3.12/dist-packages/IPython/core/events.py:89: UserWarning: Glyph 21917 (\\N{CJK UNIFIED IDEOGRAPH-559D}) missing from font(s) DejaVu Sans.\n",
            "  func(*args, **kwargs)\n",
            "WARNING:matplotlib.font_manager:findfont: Font family 'WenQuanYi Zen Hei' not found.\n",
            "WARNING:matplotlib.font_manager:findfont: Font family 'WenQuanYi Zen Hei' not found.\n",
            "/usr/local/lib/python3.12/dist-packages/IPython/core/events.py:89: UserWarning: Glyph 23067 (\\N{CJK UNIFIED IDEOGRAPH-5A1B}) missing from font(s) DejaVu Sans.\n",
            "  func(*args, **kwargs)\n",
            "/usr/local/lib/python3.12/dist-packages/IPython/core/events.py:89: UserWarning: Glyph 27138 (\\N{CJK UNIFIED IDEOGRAPH-6A02}) missing from font(s) DejaVu Sans.\n",
            "  func(*args, **kwargs)\n",
            "WARNING:matplotlib.font_manager:findfont: Font family 'WenQuanYi Zen Hei' not found.\n"
          ]
        }
      ],
      "source": [
        "import gradio as gr\n",
        "import matplotlib.pyplot as plt\n",
        "import io\n",
        "import base64\n",
        "import pandas as pd\n",
        "from datetime import datetime\n",
        "import re\n",
        "import gspread\n",
        "from google.colab import auth\n",
        "from google.auth import default\n",
        "\n",
        "\n",
        "# Define the existing display_all_items function here\n",
        "def display_all_items():\n",
        "    \"\"\"Reads, sorts, and displays all items from the Google Sheet.\"\"\"\n",
        "    # Access the Google Sheet using the gc object and the sheet URL\n",
        "    sheet = gc.open_by_url(\"https://docs.google.com/spreadsheets/d/1hWNTg2T0acFyg1xrtLd35HZJxOQFrg0bVyBdgcWYTJ4/edit?gid=0#gid=0\")\n",
        "    worksheet = sheet.sheet1\n",
        "\n",
        "    # Read all data from the worksheet\n",
        "    data = worksheet.get_all_values()\n",
        "\n",
        "    if len(data) > 1:\n",
        "        df = pd.DataFrame(data[1:], columns=data[0])\n",
        "\n",
        "        # Ensure '金額' column is numeric, coercing errors to NaN\n",
        "        df['金額'] = pd.to_numeric(df['金額'], errors='coerce')\n",
        "        df.dropna(subset=['金額'], inplace=True)\n",
        "\n",
        "        # Ensure '日期' and '時間' columns exist\n",
        "        if '日期' in df.columns and '時間' in df.columns:\n",
        "             # Combine '日期' and '時間' into a single datetime column\n",
        "             df['時間戳記'] = df['日期'] + ' ' + df['時間']\n",
        "             # Convert the '時間戳記' column to datetime objects, handling potential errors\n",
        "             df['時間戳記'] = pd.to_datetime(df['時間戳記'], errors='coerce')\n",
        "             df.dropna(subset=['時間戳記'], inplace=True) # Drop rows with invalid datetime\n",
        "\n",
        "             # Sort the DataFrame by the new '時間戳記' column in ascending order\n",
        "             df = df.sort_values(by='時間戳記', ascending=True)\n",
        "\n",
        "             # Return the DataFrame instead of displaying it here\n",
        "             return df[['日期', '時間', '項目', '金額', '類型']]\n",
        "        else:\n",
        "             print(\"Google Sheet 中缺少 '日期' 或 '時間' 欄位，無法依時間排序顯示。\")\n",
        "             return df # Return unsorted if sorting not possible\n",
        "\n",
        "\n",
        "    else:\n",
        "        print(\"Google Sheet 是空的，沒有記帳項目。\")\n",
        "        return pd.DataFrame(columns=['日期', '時間', '項目', '金額', '類型']) # Return empty DataFrame\n",
        "\n",
        "\n",
        "# Define the existing display_financial_summary function here\n",
        "def display_financial_summary():\n",
        "    \"\"\"Reads data and returns the financial summary data.\"\"\"\n",
        "    try:\n",
        "        print(\"display_financial_summary: Attempting to access Google Sheet.\")\n",
        "        # Access the Google Sheet using the gc object and the sheet URL\n",
        "        sheet = gc.open_by_url(\"https://docs.google.com/spreadsheets/d/1hWNTg2T0acFyg1xrtLd35HZJxOQFrg0bVyBdgcWYTJ4/edit?gid=0#gid=0\")\n",
        "        worksheet = sheet.sheet1\n",
        "        data = worksheet.get_all_values()\n",
        "        print(f\"display_financial_summary: Successfully read {len(data)} rows from sheet.\")\n",
        "\n",
        "\n",
        "        if len(data) > 1:\n",
        "            print(\"display_financial_summary: Creating DataFrame.\")\n",
        "            df = pd.DataFrame(data[1:], columns=data[0])\n",
        "            print(f\"display_financial_summary: DataFrame created with columns: {df.columns.tolist()}\")\n",
        "\n",
        "\n",
        "            # Ensure '金額' column is numeric and '類型' column exists\n",
        "            if '金額' in df.columns:\n",
        "                print(\"display_financial_summary: Converting '金額' to numeric.\")\n",
        "                df['金額'] = pd.to_numeric(df['金額'], errors='coerce')\n",
        "                df.dropna(subset=['金額'], inplace=True)\n",
        "                print(f\"display_financial_summary: After numeric conversion and dropna, {len(df)} rows remain.\")\n",
        "            else:\n",
        "                print(\"display_financial_summary: '金額' column not found.\")\n",
        "                # Handle missing '金額' column - maybe return empty data or raise error\n",
        "                return {\n",
        "                    \"total_income\": 0.00,\n",
        "                    \"total_expense\": 0.00,\n",
        "                    \"total_balance\": 0.00,\n",
        "                    \"expense_by_category\": {}\n",
        "                }\n",
        "\n",
        "\n",
        "            if '類型' not in df.columns:\n",
        "                print(\"display_financial_summary: '類型' column not found, defaulting to '未知'.\")\n",
        "                df['類型'] = '未知' # Default category if column is missing\n",
        "            print(f\"display_financial_summary: '類型' column exists or defaulted.\")\n",
        "\n",
        "\n",
        "            # Calculate total income and expenses\n",
        "            print(\"display_financial_summary: Calculating totals.\")\n",
        "            total_income = df[df['類型'] == '收入']['金額'].sum()\n",
        "            total_expense = df[df['類型'] != '收入']['金額'].sum()\n",
        "            total_balance = total_income - total_expense\n",
        "            print(f\"display_financial_summary: Totals calculated - Income: {total_income}, Expense: {total_expense}, Balance: {total_balance}\")\n",
        "\n",
        "\n",
        "            # Calculate expenses by category (excluding '收入')\n",
        "            print(\"display_financial_summary: Calculating expenses by category.\")\n",
        "            expense_by_category = df[df['類型'] != '收入'].groupby('類型')['金額'].sum().to_dict()\n",
        "            print(f\"display_financial_summary: Expenses by category: {expense_by_category}\")\n",
        "\n",
        "\n",
        "            # Return the calculated values\n",
        "            print(\"display_financial_summary: Returning financial data.\")\n",
        "            return {\n",
        "                \"total_income\": total_income,\n",
        "                \"total_expense\": total_expense,\n",
        "                \"total_balance\": total_balance,\n",
        "                \"expense_by_category\": expense_by_category\n",
        "            }\n",
        "\n",
        "        else:\n",
        "            print(\"display_financial_summary: Google Sheet is empty.\")\n",
        "            # Return zero values if the sheet is empty\n",
        "            return {\n",
        "                \"total_income\": 0.00,\n",
        "                \"total_expense\": 0.00,\n",
        "                \"total_balance\": 0.00,\n",
        "                \"expense_by_category\": {}\n",
        "            }\n",
        "\n",
        "    except Exception as e:\n",
        "        print(f\"display_financial_summary: Error calculating financial summary: {e}\")\n",
        "        # Return zero values and empty dict in case of error\n",
        "        return {\n",
        "            \"total_income\": 0.00,\n",
        "            \"total_expense\": 0.00,\n",
        "            \"total_balance\": 0.00,\n",
        "            \"expense_by_category\": {}\n",
        "        }\n",
        "\n",
        "# Define a function that will be called by Gradio to handle adding an expense\n",
        "# This function will take inputs from the Gradio interface and call your add_expense function\n",
        "def add_expense_ui(date_str, time_str, item, amount_str, category_input):\n",
        "    try:\n",
        "        amount = float(amount_str)\n",
        "        # Call the existing add_expense function\n",
        "        add_expense(date_str, time_str, item, amount, category_input)\n",
        "        return \"新增記帳項目成功！\"\n",
        "    except ValueError:\n",
        "        return \"金額輸入無效。請輸入數字。\"\n",
        "    except Exception as e:\n",
        "        return f\"新增記帳項目時發生錯誤: {e}\"\n",
        "\n",
        "# Define a function to display all items\n",
        "def display_all_items_ui():\n",
        "    # Call the existing display_all_items function which now returns the DataFrame\n",
        "    df_items = display_all_items()\n",
        "    # Return the DataFrame for Gradio to display\n",
        "    return df_items\n",
        "\n",
        "# Define a function to display the financial summary and pie chart\n",
        "def display_financial_summary_ui():\n",
        "    \"\"\"Calls the financial summary function and prepares data and plot for UI display.\"\"\"\n",
        "    summary_string = \"\"\n",
        "    pie_chart_figure = None\n",
        "    try:\n",
        "        print(\"display_financial_summary_ui: Starting.\")\n",
        "        summary_data = display_financial_summary()\n",
        "        print(\"display_financial_summary_ui: display_financial_summary called.\")\n",
        "\n",
        "        # Format the summary data into a string for the Textbox output\n",
        "        summary_string = f\"財務總結:\\n\"\n",
        "        summary_string += f\"總收入: {summary_data.get('total_income', 0.0):.2f} 元\\n\"\n",
        "        summary_string += f\"總支出: {summary_data.get('total_expense', 0.0):.2f} 元\\n\"\n",
        "        summary_string += f\"總餘額: {summary_data.get('total_balance', 0.0):.2f} 元\\n\\n\"\n",
        "\n",
        "        summary_string += \"各分類支出:\\n\"\n",
        "        expense_by_category = summary_data.get('expense_by_category', {})\n",
        "        if expense_by_category:\n",
        "            for category, amount in expense_by_category.items():\n",
        "                summary_string += f\"{category}: {amount:.2f} 元\\n\"\n",
        "        else:\n",
        "            summary_string += \"無分類支出資料。\"\n",
        "        print(\"display_financial_summary_ui: Summary string formatted.\")\n",
        "\n",
        "\n",
        "        # Create the pie chart\n",
        "        try:\n",
        "            print(\"display_financial_summary_ui: Attempting to create pie chart.\")\n",
        "            pie_chart_figure = create_pie_chart(expense_by_category)\n",
        "            print(f\"display_financial_summary_ui: create_pie_chart returned type: {type(pie_chart_figure)}\")\n",
        "        except Exception as chart_e:\n",
        "            summary_string += f\"\\n\\n繪製圓餅圖時發生錯誤: {chart_e}\"\n",
        "            print(f\"display_financial_summary_ui: Error creating pie chart: {chart_e}\")\n",
        "            pie_chart_figure = None # Ensure None is returned for the plot if there's an error\n",
        "\n",
        "\n",
        "    except Exception as e:\n",
        "        # Catch any errors during data retrieval or summary calculation in display_financial_summary\n",
        "        summary_string = f\"顯示財務總結時發生錯誤: {e}\"\n",
        "        print(f\"display_financial_summary_ui: Error in main try block: {e}\")\n",
        "        pie_chart_figure = None # Ensure None is returned for the plot if there's an error\n",
        "\n",
        "\n",
        "    # Return both the summary string and the pie chart (Matplotlib Figure object or None)\n",
        "    print(\"display_financial_summary_ui: Returning results.\")\n",
        "    return summary_string, pie_chart_figure\n",
        "\n",
        "\n",
        "# Create a pie chart function (assuming this was in a previous cell and needed here)\n",
        "def create_pie_chart(expense_by_category):\n",
        "    \"\"\"Creates a pie chart from the expense by category data.\"\"\"\n",
        "    print(f\"create_pie_chart: Received data: {expense_by_category}\")\n",
        "    if not expense_by_category:\n",
        "        print(\"create_pie_chart: No expense data, returning None.\")\n",
        "        # Return None or handle empty data case\n",
        "        return None\n",
        "\n",
        "    labels = expense_by_category.keys()\n",
        "    sizes = expense_by_category.values()\n",
        "    colors = ['gold', 'yellowgreen', 'lightcoral', 'lightskyblue', 'lightgreen'] # Example colors\n",
        "\n",
        "    print(\"create_pie_chart: Creating plot figure.\")\n",
        "    fig1, ax1 = plt.subplots()\n",
        "    ax1.pie(sizes, labels=labels, autopct='%1.1f%%', startangle=90, colors=colors)\n",
        "    ax1.axis('equal')  # Equal aspect ratio ensures that pie is drawn as a circle.\n",
        "    print(\"create_pie_chart: Plot figure created.\")\n",
        "\n",
        "\n",
        "    # Save the plot to a bytes object - REMOVED\n",
        "    # buf = io.BytesIO()\n",
        "    # plt.savefig(buf, format='png')\n",
        "    # buf.seek(0)\n",
        "    # plt.close(fig1) # Close the plot to free up memory\n",
        "\n",
        "    print(\"create_pie_chart: Returning Figure object.\")\n",
        "    return fig1 # Return the Figure object directly\n",
        "\n",
        "\n",
        "# Create a new Blocks app instance\n",
        "with gr.Blocks() as demo_blocks:\n",
        "    # Create a tabbed container\n",
        "    with gr.Tabs() as tabs:\n",
        "        # Create a TabItem for adding expense\n",
        "        with gr.TabItem(\"新增支出/收入\", id=0):\n",
        "            # Define inputs for adding expense\n",
        "            add_date_input = gr.Textbox(label=\"日期 (YYYY-MM-DD)\")\n",
        "            add_time_input = gr.Textbox(label=\"時間 (HH:MM)\")\n",
        "            add_item_input = gr.Textbox(label=\"項目\")\n",
        "            add_amount_input = gr.Textbox(label=\"金額\")\n",
        "            add_category_input = gr.Radio(['1', '2', '3'], label=\"分類：1. 收入、2. 吃喝、3. 娛樂\")\n",
        "            # Define a button to trigger the add expense function\n",
        "            add_expense_button = gr.Button(\"新增項目\")\n",
        "            # Define the output for the add expense function\n",
        "            add_expense_output = gr.Textbox(label=\"結果\")\n",
        "\n",
        "            # Link the button click to the add_expense_ui function\n",
        "            add_expense_button.click(\n",
        "                fn=add_expense_ui,\n",
        "                inputs=[add_date_input, add_time_input, add_item_input, add_amount_input, add_category_input],\n",
        "                outputs=add_expense_output\n",
        "            )\n",
        "\n",
        "\n",
        "        # Create a TabItem for displaying all items\n",
        "        with gr.TabItem(\"顯示所有記帳項目\", id=1) as display_items_tab:\n",
        "            # Define the output as a DataFrame to display the items\n",
        "            display_items_output = gr.DataFrame(label=\"所有記帳項目 (依時間排序)\")\n",
        "\n",
        "        # Create a TabItem for displaying financial summary\n",
        "        with gr.TabItem(\"顯示財務總結\", id=2) as display_summary_tab:\n",
        "             # Define the output as a Textbox to display the summary string\n",
        "             display_summary_output = gr.Textbox(label=\"財務總結\")\n",
        "             # Add a component to display the plot\n",
        "             summary_pie_chart = gr.Plot(label=\"分類支出圓餅圖\")\n",
        "             # Add a button to trigger displaying the summary and plot\n",
        "             display_summary_button = gr.Button(\"顯示財務總結與圖表\")\n",
        "\n",
        "             # Link the button click to the display_financial_summary_ui function\n",
        "             # The function now returns both the summary string and the plot\n",
        "             display_summary_button.click(\n",
        "                 fn=display_financial_summary_ui,\n",
        "                 inputs=None, # No inputs needed\n",
        "                 outputs=[display_summary_output, summary_pie_chart] # Output both the text and the plot\n",
        "             )\n",
        "\n",
        "\n",
        "    # Use the .select() method on the tabs object to trigger an action when a tab is selected\n",
        "    # The index for \"顯示所有記帳項目\" is 1 (0-indexed)\n",
        "    tabs.select(\n",
        "        fn=display_all_items_ui,\n",
        "        inputs=None, # No inputs needed for display_all_items_ui\n",
        "        outputs=display_items_output, # The output DataFrame will be updated\n",
        "        queue=False # Setting queue to False for immediate execution on select\n",
        "    )\n",
        "\n",
        "    # Use the .select() method on the tabs object to trigger an action when the summary tab is selected\n",
        "    # The index for \"顯示財務總結\" is 2 (0-indexed)\n",
        "    # We will connect the button click to update both the summary text and the plot in the next step.\n",
        "    # For now, we just define the components.\n",
        "\n",
        "\n",
        "# Launch the Blocks app\n",
        "demo_blocks.launch(debug=True)"
      ]
    },
    {
      "cell_type": "markdown",
      "metadata": {
        "id": "e5ab7018"
      },
      "source": [
        "# Task\n",
        "將財務總結的結果顯示在gradio的介面，同時顯示一個三種分類消費的占比圓餅圖。"
      ]
    },
    {
      "cell_type": "markdown",
      "metadata": {
        "id": "e7f71753"
      },
      "source": [
        "## 修改財務總結函式\n",
        "\n",
        "### Subtask:\n",
        "修改 `display_financial_summary` 函式，使其返回總收入、總支出、總餘額以及各分類的支出資料。\n"
      ]
    },
    {
      "cell_type": "markdown",
      "metadata": {
        "id": "7745a494"
      },
      "source": [
        "**Reasoning**:\n",
        "The subtask requires modifying the `display_financial_summary` function to return financial data instead of printing it. I will update the function to calculate the required values and return them in a structured format.\n",
        "\n"
      ]
    },
    {
      "cell_type": "code",
      "execution_count": 25,
      "metadata": {
        "id": "a5602165"
      },
      "outputs": [],
      "source": [
        "def display_financial_summary():\n",
        "    \"\"\"Reads data and returns the financial summary data.\"\"\"\n",
        "    try:\n",
        "        # Access the Google Sheet and read data (similar to display_all_items)\n",
        "        sheet = gc.open_by_url(\"https://docs.google.com/spreadsheets/d/1hWNTg2T0acFyg1xrtLd35HZJxOQFrg0bVyBdgcWYTJ4/edit?gid=0#gid=0\")\n",
        "        worksheet = sheet.sheet1\n",
        "        data = worksheet.get_all_values()\n",
        "\n",
        "        if len(data) > 1:\n",
        "            df = pd.DataFrame(data[1:], columns=data[0])\n",
        "\n",
        "            # Ensure '金額' column is numeric and '類型' column exists\n",
        "            df['金額'] = pd.to_numeric(df['金額'], errors='coerce')\n",
        "            df.dropna(subset=['金額'], inplace=True)\n",
        "            if '類型' not in df.columns:\n",
        "                df['類型'] = '未知' # Default category if column is missing\n",
        "\n",
        "            # Calculate total income and expenses\n",
        "            total_income = df[df['類型'] == '收入']['金額'].sum()\n",
        "            total_expense = df[df['類型'] != '收入']['金額'].sum()\n",
        "            total_balance = total_income - total_expense\n",
        "\n",
        "            # Calculate expenses by category (excluding '收入')\n",
        "            expense_by_category = df[df['類型'] != '收入'].groupby('類型')['金額'].sum().to_dict()\n",
        "\n",
        "            # Return the calculated values\n",
        "            return {\n",
        "                \"total_income\": total_income,\n",
        "                \"total_expense\": total_expense,\n",
        "                \"total_balance\": total_balance,\n",
        "                \"expense_by_category\": expense_by_category\n",
        "            }\n",
        "\n",
        "        else:\n",
        "            # Return zero values if the sheet is empty\n",
        "            return {\n",
        "                \"total_income\": 0.00,\n",
        "                \"total_expense\": 0.00,\n",
        "                \"total_balance\": 0.00,\n",
        "                \"expense_by_category\": {}\n",
        "            }\n",
        "\n",
        "    except Exception as e:\n",
        "        print(f\"計算財務總結時發生錯誤: {e}\")\n",
        "        # Return zero values and empty dict in case of error\n",
        "        return {\n",
        "            \"total_income\": 0.00,\n",
        "            \"total_expense\": 0.00,\n",
        "            \"total_balance\": 0.00,\n",
        "            \"expense_by_category\": {}\n",
        "        }\n",
        "\n",
        "# Modify the display_financial_summary_ui to call the updated function and handle its return\n",
        "def display_financial_summary_ui():\n",
        "    \"\"\"Calls the financial summary function and prepares data for UI display.\"\"\"\n",
        "    summary_data = display_financial_summary()\n",
        "\n",
        "    # Format the summary data into a string for the Textbox output\n",
        "    summary_string = f\"財務總結:\\n\"\n",
        "    summary_string += f\"總收入: {summary_data['total_income']:.2f} 元\\n\"\n",
        "    summary_string += f\"總支出: {summary_data['total_expense']:.2f} 元\\n\"\n",
        "    summary_string += f\"總餘額: {summary_data['total_balance']:.2f} 元\\n\\n\"\n",
        "\n",
        "    summary_string += \"各分類支出:\\n\"\n",
        "    if summary_data['expense_by_category']:\n",
        "        for category, amount in summary_data['expense_by_category'].items():\n",
        "            summary_string += f\"{category}: {amount:.2f} 元\\n\"\n",
        "    else:\n",
        "        summary_string += \"無分類支出資料。\"\n",
        "\n",
        "    # For this subtask, we are only modifying the backend function.\n",
        "    # The UI display of the summary string will be handled in a later step.\n",
        "    # We will return the summary string for now, and the next subtask will handle the pie chart.\n",
        "    return summary_string\n"
      ]
    },
    {
      "cell_type": "markdown",
      "metadata": {
        "id": "2daf40e3"
      },
      "source": [
        "## 生成圓餅圖程式碼\n",
        "\n",
        "### Subtask:\n",
        "根據分類支出資料，生成使用 matplotlib 或 plotly 繪製圓餅圖的程式碼。\n"
      ]
    },
    {
      "cell_type": "markdown",
      "metadata": {
        "id": "89cb6fd1"
      },
      "source": [
        "## 整合圖表到 gradio 介面\n",
        "\n",
        "### Subtask:\n",
        "在 `gr.Blocks` 中為財務總結分頁添加一個用於顯示圖表的 Gradio 元件（例如 `gr.Plot` 或 `gr.Image`）。\n"
      ]
    },
    {
      "cell_type": "markdown",
      "metadata": {
        "id": "27de204a"
      },
      "source": [
        "**Reasoning**:\n",
        "Add a `gr.Plot` component to the \"顯示財務總結\" tab in the `gr.Blocks` structure to display the pie chart.\n",
        "\n"
      ]
    },
    {
      "cell_type": "code",
      "execution_count": 26,
      "metadata": {
        "id": "caf01b0f"
      },
      "outputs": [],
      "source": [
        "# Create a new Blocks app instance\n",
        "with gr.Blocks() as demo_blocks:\n",
        "    # Create a tabbed container\n",
        "    with gr.Tabs() as tabs:\n",
        "        # Create a TabItem for adding expense\n",
        "        with gr.TabItem(\"新增支出/收入\", id=0):\n",
        "            # Define inputs for adding expense\n",
        "            add_date_input = gr.Textbox(label=\"日期 (YYYY-MM-DD)\")\n",
        "            add_time_input = gr.Textbox(label=\"時間 (HH:MM)\")\n",
        "            add_item_input = gr.Textbox(label=\"項目\")\n",
        "            add_amount_input = gr.Textbox(label=\"金額\")\n",
        "            add_category_input = gr.Radio(['1', '2', '3'], label=\"分類：1. 收入、2. 吃喝、3. 娛樂\")\n",
        "            # Define a button to trigger the add expense function\n",
        "            add_expense_button = gr.Button(\"新增項目\")\n",
        "            # Define the output for the add expense function\n",
        "            add_expense_output = gr.Textbox(label=\"結果\")\n",
        "\n",
        "            # Link the button click to the add_expense_ui function\n",
        "            add_expense_button.click(\n",
        "                fn=add_expense_ui,\n",
        "                inputs=[add_date_input, add_time_input, add_item_input, add_amount_input, add_category_input],\n",
        "                outputs=add_expense_output\n",
        "            )\n",
        "\n",
        "\n",
        "        # Create a TabItem for displaying all items\n",
        "        with gr.TabItem(\"顯示所有記帳項目\", id=1) as display_items_tab:\n",
        "            # Define the output as a DataFrame to display the items\n",
        "            display_items_output = gr.DataFrame(label=\"所有記帳項目 (依時間排序)\")\n",
        "\n",
        "        # Create a TabItem for displaying financial summary\n",
        "        with gr.TabItem(\"顯示財務總結\", id=2) as display_summary_tab:\n",
        "             # Define the output as a Textbox to display the summary string\n",
        "             display_summary_output = gr.Textbox(label=\"財務總結\")\n",
        "             # Add a component to display the plot\n",
        "             summary_pie_chart = gr.Plot(label=\"分類支出圓餅圖\")\n",
        "             # Add a button to trigger displaying the summary and plot\n",
        "             display_summary_button = gr.Button(\"顯示財務總結與圖表\")\n",
        "\n",
        "\n",
        "    # Use the .select() method on the tabs object to trigger an action when a tab is selected\n",
        "    # The index for \"顯示所有記帳項目\" is 1 (0-indexed)\n",
        "    tabs.select(\n",
        "        fn=display_all_items_ui,\n",
        "        inputs=None, # No inputs needed for display_all_items_ui\n",
        "        outputs=display_items_output, # The output DataFrame will be updated\n",
        "        queue=False # Setting queue to False for immediate execution on select\n",
        "    )\n",
        "\n",
        "    # Use the .select() method on the tabs object to trigger an action when the summary tab is selected\n",
        "    # The index for \"顯示財務總結\" is 2 (0-indexed)\n",
        "    # We will connect the button click to update both the summary text and the plot in the next step.\n",
        "    # For now, we just define the components.\n",
        "\n",
        "\n",
        "# Launch the Blocks app (optional for this step, but good for testing structure)\n",
        "# demo_blocks.launch(debug=True)"
      ]
    },
    {
      "cell_type": "markdown",
      "metadata": {
        "id": "4e6bde14"
      },
      "source": [
        "# Task\n",
        "Create a Gradio application that allows users to add income/expense records to a Google Sheet, display all records from the sheet, and display a financial summary including total income, total expense, balance, and a pie chart of expense categories. The application should have three tabs: \"新增支出/收入\", \"顯示所有記帳項目\", and \"顯示財務總結\". The \"顯示財務總結\" tab should display the summary text and the pie chart simultaneously."
      ]
    },
    {
      "cell_type": "markdown",
      "metadata": {
        "id": "5767ace6"
      },
      "source": [
        "## 匯入必要的函式庫\n",
        "\n",
        "### Subtask:\n",
        "匯入處理資料 (pandas)、時間 (datetime, re)、Google Sheets (gspread, google.colab.auth, google.auth.default) 以及建立使用者介面 (gradio) 所需的函式庫。\n"
      ]
    },
    {
      "cell_type": "markdown",
      "metadata": {
        "id": "8a24a6c5"
      },
      "source": [
        "**Reasoning**:\n",
        "Import the necessary libraries for data handling, time processing, Google Sheets interaction, UI creation, and plotting, as specified in the instructions and not already imported in previous cells.\n",
        "\n"
      ]
    },
    {
      "cell_type": "code",
      "execution_count": 27,
      "metadata": {
        "id": "5e00659f"
      },
      "outputs": [],
      "source": [
        "import pandas as pd\n",
        "from datetime import datetime\n",
        "import re\n",
        "import gspread\n",
        "from google.colab import auth\n",
        "from google.auth import default\n",
        "import gradio as gr\n",
        "import matplotlib.pyplot as plt\n",
        "import io\n",
        "import base64"
      ]
    }
  ],
  "metadata": {
    "colab": {
      "provenance": [],
      "authorship_tag": "ABX9TyOuVouBUF/9Lxnam5/ZQWWW",
      "include_colab_link": true
    },
    "kernelspec": {
      "display_name": "Python 3",
      "name": "python3"
    },
    "language_info": {
      "name": "python"
    }
  },
  "nbformat": 4,
  "nbformat_minor": 0
}