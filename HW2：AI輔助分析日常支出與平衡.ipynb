{
  "cells": [
    {
      "cell_type": "markdown",
      "metadata": {
        "id": "view-in-github",
        "colab_type": "text"
      },
      "source": [
        "<a href=\"https://colab.research.google.com/github/Gagalin105/TAHRD2nd-PL/blob/main/HW2%EF%BC%9AAI%E8%BC%94%E5%8A%A9%E5%88%86%E6%9E%90%E6%97%A5%E5%B8%B8%E6%94%AF%E5%87%BA%E8%88%87%E5%B9%B3%E8%A1%A1.ipynb\" target=\"_parent\"><img src=\"https://colab.research.google.com/assets/colab-badge.svg\" alt=\"Open In Colab\"/></a>"
      ]
    },
    {
      "cell_type": "markdown",
      "metadata": {
        "id": "aGg5VIsZ50Zi"
      },
      "source": [
        "日常支出速算與分攤（作業一）\n",
        "\n",
        "\n",
        "*   輸入種類與數值\n",
        "*   根據種類分類\n",
        "\n",
        "\n",
        "*   計算總收入\n",
        "\n",
        "\n",
        "\n"
      ]
    },
    {
      "cell_type": "markdown",
      "metadata": {
        "id": "df7f7279"
      },
      "source": [
        "# **標頭檔**\n"
      ]
    },
    {
      "cell_type": "code",
      "execution_count": null,
      "metadata": {
        "id": "38778d21",
        "colab": {
          "base_uri": "https://localhost:8080/",
          "height": 646
        },
        "outputId": "061428d2-70c5-4a82-a50b-3b244a375bad"
      },
      "outputs": [
        {
          "output_type": "stream",
          "name": "stdout",
          "text": [
            "It looks like you are running Gradio on a hosted Jupyter notebook, which requires `share=True`. Automatically setting `share=True` (you can turn this off by setting `share=False` in `launch()` explicitly).\n",
            "\n",
            "Colab notebook detected. To show errors in colab notebook, set debug=True in launch()\n",
            "* Running on public URL: https://249d138a12683296ae.gradio.live\n",
            "\n",
            "This share link expires in 1 week. For free permanent hosting and GPU upgrades, run `gradio deploy` from the terminal in the working directory to deploy to Hugging Face Spaces (https://huggingface.co/spaces)\n"
          ]
        },
        {
          "output_type": "display_data",
          "data": {
            "text/plain": [
              "<IPython.core.display.HTML object>"
            ],
            "text/html": [
              "<div><iframe src=\"https://249d138a12683296ae.gradio.live\" width=\"100%\" height=\"500\" allow=\"autoplay; camera; microphone; clipboard-read; clipboard-write;\" frameborder=\"0\" allowfullscreen></iframe></div>"
            ]
          },
          "metadata": {}
        },
        {
          "output_type": "execute_result",
          "data": {
            "text/plain": []
          },
          "metadata": {},
          "execution_count": 3
        }
      ],
      "source": [
        "import pandas as pd\n",
        "from datetime import datetime\n",
        "import re\n",
        "import gspread\n",
        "from google.colab import auth\n",
        "from google.auth import default\n",
        "\n",
        "# Authenticate and authorize gspread\n",
        "auth.authenticate_user()\n",
        "creds, _ = default()\n",
        "gc = gspread.authorize(creds)\n",
        "\n",
        "# Initialize global variables\n",
        "total_income = 0\n",
        "\n",
        "import gradio as gr\n",
        "def greet(name):\n",
        "    return \"Hello \" + name + \"!\"\n",
        "\n",
        "demo = gr.Interface(fn=greet, inputs=\"text\", outputs=\"text\")\n",
        "\n",
        "demo.launch()"
      ]
    },
    {
      "cell_type": "markdown",
      "metadata": {
        "id": "KMgK13gMRT9A"
      },
      "source": [
        "# **函式：輸入**"
      ]
    },
    {
      "cell_type": "code",
      "execution_count": null,
      "metadata": {
        "id": "70d3cce9"
      },
      "outputs": [],
      "source": [
        "def get_expense_input():\n",
        "    \"\"\"Gets expense details from the user.\"\"\"\n",
        "    date_input = input(\"請輸入日期 (YYYY-MM-DD): \")\n",
        "    time_input = input(\"請輸入時間 (HH:MM): \")\n",
        "    item_input = input(\"請輸入項目: \")\n",
        "    amount_input_str = input(\"請輸入金額: \")\n",
        "    category_input = input(\"請根據先前輸入的項目分類，並輸入對應的數字：1. 收入、2. 吃喝、3. 娛樂: \")\n",
        "\n",
        "    try:\n",
        "        amount_input = float(amount_input_str)\n",
        "    except ValueError:\n",
        "        print(\"無效的金額輸入。請輸入數字。\")\n",
        "        return None, None, None, None, None # Return None for all if amount is invalid\n",
        "\n",
        "    return date_input, time_input, item_input, amount_input, category_input\n",
        "\n",
        "# Modify the add_expense function to accept parameters\n",
        "def add_expense(date_str, time_str, item, amount, category_input):\n",
        "    try:\n",
        "        # Validate and correct date format (YYYY-MM-DD)\n",
        "        date_match = re.match(r'(\\d{4})[=/-](\\d{1,2})[=/-](\\d{1,2})', date_str)\n",
        "        if not date_match:\n",
        "            print(\"日期格式錯誤：請使用 YYYY-MM-DD 格式。\")\n",
        "            return\n",
        "\n",
        "        year, month, day = date_match.groups()\n",
        "        # Attempt to correct month and day if they are single digits\n",
        "        corrected_date_str = f\"{year}-{int(month):02d}-{int(day):02d}\"\n",
        "\n",
        "        # Validate and correct time format (HH:MM)\n",
        "        time_match = re.match(r'^(\\d{1,2}):(\\d{1,2})$', time_str)\n",
        "        if not time_match:\n",
        "            print(\"時間格式錯誤：請使用 HH:MM 格式 (24小時制)。\")\n",
        "            return\n",
        "\n",
        "        hour, minute = time_match.groups()\n",
        "        # Attempt to correct hour and minute if they are single digits and validate values\n",
        "        try:\n",
        "            corrected_time_str = f\"{int(hour):02d}:{int(minute):02d}\"\n",
        "            # Further validation for hour and minute values\n",
        "            if not (0 <= int(hour) <= 23 and 0 <= int(minute) <= 59):\n",
        "                 print(\"時間格式錯誤：請使用 HH:MM 格式 (24小時制)。時或分超出有效範圍。\")\n",
        "                 return\n",
        "        except ValueError:\n",
        "             print(\"時間格式錯誤：請使用 HH:MM 格式 (24小時制)。\")\n",
        "             return\n",
        "\n",
        "\n",
        "        # Combine corrected date and time strings and convert to datetime object\n",
        "        datetime_str = f\"{corrected_date_str} {corrected_time_str}\"\n",
        "        datetime_obj = datetime.strptime(datetime_str, '%Y-%m-%d %H:%M')\n",
        "\n",
        "\n",
        "        # --- Category input and validation (moved from original add_expense) ---\n",
        "        category_map = {'1': '收入', '2': '吃喝', '3': '娛樂'}\n",
        "\n",
        "        if category_input not in category_map:\n",
        "            print(\"無效的分類輸入。請輸入 1, 2, 或 3。\")\n",
        "            return\n",
        "\n",
        "        category = category_map[category_input]\n",
        "        # --- End of category validation ---\n",
        "\n",
        "\n",
        "        # Create a new row as a list for gspread\n",
        "        # Add the category to the list\n",
        "        new_row_list = [datetime_obj.date().strftime('%Y-%m-%d'),\n",
        "                        datetime_obj.time().strftime('%H:%M'),\n",
        "                        item,\n",
        "                        amount,\n",
        "                        category] # Add the category here\n",
        "\n",
        "\n",
        "        # Append the new row to the Google Sheet using gspread\n",
        "        # Use the gc object from the previous cell\n",
        "        sheet = gc.open_by_url(\"https://docs.google.com/spreadsheets/d/1hWNTg2T0acFyg1xrtLd35HZJxOQFrg0bVyBdgcWYTJ4/edit?gid=0#gid=0\")\n",
        "        worksheet = sheet.sheet1 # Assuming the data is in the first sheet\n",
        "\n",
        "        worksheet.append_row(new_row_list)\n",
        "\n",
        "        print(\"Row added to Google Sheet successfully!\")\n",
        "\n",
        "        # --- New code for updating total income ---\n",
        "        global total_income\n",
        "        if category == '收入':\n",
        "            total_income += amount\n",
        "        else:\n",
        "            total_income -= amount\n",
        "\n",
        "        print(f\"目前的總收入為 {total_income} 元\")\n",
        "        # --- End of new code ---\n",
        "\n",
        "\n",
        "        # Optional: Update the DataFrame in memory after writing to the sheet\n",
        "        global df\n",
        "        if 'df' in globals() and isinstance(df, pd.DataFrame):\n",
        "            new_row_dict = {'日期': datetime_obj.date(),\n",
        "                            '時間': datetime_obj.time(),\n",
        "                            '項目': item,\n",
        "                            '金額': amount,\n",
        "                            '類型': category} # Add category to DataFrame dict\n",
        "            # Use pd.concat instead of append for newer pandas version\n",
        "\n",
        "    except ValueError as e:\n",
        "        print(f\"Error adding row: {e}\")\n",
        "        print(\"請確保日期和時間格式正確。\")\n",
        "    except Exception as e:\n",
        "        print(f\"An unexpected error occurred: {e}\")\n",
        "\n",
        "# Example of how to use the functions\n",
        "# date_input, time_input, item_input, amount_input, category_input = get_expense_input()\n",
        "# if all([date_input, time_input, item_input, amount_input is not None, category_input]): # Check if all inputs are valid\n",
        "#     add_expense(date_input, time_input, item_input, amount_input, category_input)"
      ]
    },
    {
      "cell_type": "markdown",
      "metadata": {
        "id": "ZY-qMiSaOUm3"
      },
      "source": [
        "# **函式：menu**"
      ]
    },
    {
      "cell_type": "code",
      "execution_count": null,
      "metadata": {
        "id": "8BDw6OqHOJQy"
      },
      "outputs": [],
      "source": [
        "def display_menu():\n",
        "    \"\"\"Displays the main menu options to the user.\"\"\"\n",
        "    print(\"\\n請選擇功能：\")\n",
        "    print(\"1. 新增支出/收入\")\n",
        "    print(\"2. 顯示所有記帳項目 (依時間排序)\")\n",
        "    print(\"3. 顯示財務總結\")\n",
        "    print(\"q. 退出\")"
      ]
    },
    {
      "cell_type": "markdown",
      "metadata": {
        "id": "7AqcTM8nDHZ-"
      },
      "source": [
        "# **函式：顯示儲存資料**"
      ]
    },
    {
      "cell_type": "markdown",
      "metadata": {
        "id": "40614ed1"
      },
      "source": [
        "# **顯示時依時間排序**\n"
      ]
    },
    {
      "cell_type": "code",
      "execution_count": null,
      "metadata": {
        "id": "RzVwavqcDEk1"
      },
      "outputs": [],
      "source": [
        "def display_all_items():\n",
        "    \"\"\"Reads, sorts, and displays all items from the Google Sheet.\"\"\"\n",
        "    # Access the Google Sheet using the gc object and the sheet URL\n",
        "    sheet = gc.open_by_url(\"https://docs.google.com/spreadsheets/d/1hWNTg2T0acFyg1xrtLd35HZJxOQFrg0bVyBdgcWYTJ4/edit?gid=0#gid=0\")\n",
        "    worksheet = sheet.sheet1\n",
        "\n",
        "    # Read all data from the worksheet\n",
        "    data = worksheet.get_all_values()\n",
        "\n",
        "    if len(data) > 1:\n",
        "        df = pd.DataFrame(data[1:], columns=data[0])\n",
        "\n",
        "        # Ensure '金額' column is numeric, coercing errors to NaN\n",
        "        df['金額'] = pd.to_numeric(df['金額'], errors='coerce')\n",
        "        df.dropna(subset=['金額'], inplace=True)\n",
        "\n",
        "        # Ensure '日期' and '時間' columns exist\n",
        "        if '日期' in df.columns and '時間' in df.columns:\n",
        "             # Combine '日期' and '時間' into a single datetime column\n",
        "             df['時間戳記'] = df['日期'] + ' ' + df['時間']\n",
        "             # Convert the '時間戳記' column to datetime objects, handling potential errors\n",
        "             df['時間戳記'] = pd.to_datetime(df['時間戳記'], errors='coerce')\n",
        "             df.dropna(subset=['時間戳記'], inplace=True) # Drop rows with invalid datetime\n",
        "\n",
        "             # Sort the DataFrame by the new '時間戳記' column in ascending order\n",
        "             df = df.sort_values(by='時間戳記', ascending=True)\n",
        "\n",
        "             # Return the DataFrame instead of displaying it here\n",
        "             return df[['日期', '時間', '項目', '金額', '類型']]\n",
        "        else:\n",
        "             print(\"Google Sheet 中缺少 '日期' 或 '時間' 欄位，無法依時間排序顯示。\")\n",
        "             return df # Return unsorted if sorting not possible\n",
        "\n",
        "\n",
        "    else:\n",
        "        print(\"Google Sheet 是空的，沒有記帳項目。\")\n",
        "        return pd.DataFrame(columns=['日期', '時間', '項目', '金額', '類型']) # Return empty DataFrame"
      ]
    },
    {
      "cell_type": "markdown",
      "metadata": {
        "id": "YBcDZvyPNgAF"
      },
      "source": [
        "# **函式：財務總結**"
      ]
    },
    {
      "cell_type": "code",
      "execution_count": null,
      "metadata": {
        "id": "984797fb"
      },
      "outputs": [],
      "source": [
        "def display_financial_summary():\n",
        "    \"\"\"Reads data and returns the financial summary as a string.\"\"\"\n",
        "    try:\n",
        "        # Access the Google Sheet and read data (similar to display_all_items)\n",
        "        sheet = gc.open_by_url(\"https://docs.google.com/spreadsheets/d/1hWNTg2T0acFyg1xrtLd35HZJxOQFrg0bVyBdgcWYTJ4/edit?gid=0#gid=0\")\n",
        "        worksheet = sheet.sheet1\n",
        "        data = worksheet.get_all_values()\n",
        "\n",
        "        summary_string = \"\"\n",
        "\n",
        "        if len(data) > 1:\n",
        "            df = pd.DataFrame(data[1:], columns=data[0])\n",
        "\n",
        "            # Ensure '金額' column is numeric and '類型' column exists\n",
        "            df['金額'] = pd.to_numeric(df['金額'], errors='coerce')\n",
        "            df.dropna(subset=['金額'], inplace=True)\n",
        "            if '類型' not in df.columns:\n",
        "                df['類型'] = '未知' # Default category if column is missing\n",
        "\n",
        "            # Calculate total income and expenses\n",
        "            total_income = df[df['類型'] == '收入']['金額'].sum()\n",
        "            total_expense = df[df['類型'] != '收入']['金額'].sum()\n",
        "            total_balance = total_income - total_expense\n",
        "\n",
        "            summary_string += \"財務總結:\\n\"\n",
        "            summary_string += f\"總收入: {total_income:.2f} 元\\n\"\n",
        "            summary_string += f\"總支出: {total_expense:.2f} 元\\n\"\n",
        "            summary_string += f\"總餘額: {total_balance:.2f} 元\"\n",
        "        else:\n",
        "            summary_string += \"Google Sheet 是空的，沒有記帳項目可供計算。\\n\"\n",
        "            summary_string += \"財務總結:\\n\"\n",
        "            summary_string += \"總收入: 0.00 元\\n\"\n",
        "            summary_string += \"總支出: 0.00 元\\n\"\n",
        "            summary_string += \"總餘額: 0.00 元\"\n",
        "\n",
        "        return summary_string\n",
        "\n",
        "    except Exception as e:\n",
        "        return f\"計算或顯示財務總結時發生錯誤: {e}\""
      ]
    },
    {
      "cell_type": "markdown",
      "metadata": {
        "id": "SNLlERvuO9-0"
      },
      "source": [
        "# **主迴圈**"
      ]
    },
    {
      "cell_type": "code",
      "execution_count": null,
      "metadata": {
        "id": "t1M8GyeyO84f",
        "colab": {
          "base_uri": "https://localhost:8080/"
        },
        "outputId": "24ec669f-fed0-4911-fecf-ca023ffde8b2"
      },
      "outputs": [
        {
          "output_type": "stream",
          "name": "stdout",
          "text": [
            "\n",
            "請選擇功能：\n",
            "1. 新增支出/收入\n",
            "2. 顯示所有記帳項目 (依時間排序)\n",
            "3. 顯示財務總結\n",
            "q. 退出\n",
            "請輸入您的選擇: 1\n",
            "請輸入日期 (YYYY-MM-DD): 2025-09-18\n",
            "請輸入時間 (HH:MM): 18:09\n",
            "請輸入項目: 柚子\n",
            "請輸入金額: 80\n",
            "請根據先前輸入的項目分類，並輸入對應的數字：1. 收入、2. 吃喝、3. 娛樂: 2\n",
            "Row added to Google Sheet successfully!\n",
            "目前的總收入為 -80.0 元\n",
            "\n",
            "請選擇功能：\n",
            "1. 新增支出/收入\n",
            "2. 顯示所有記帳項目 (依時間排序)\n",
            "3. 顯示財務總結\n",
            "q. 退出\n",
            "請輸入您的選擇: q\n",
            "程式結束。\n"
          ]
        }
      ],
      "source": [
        "# Define the display_menu function here as it's called in this cell\n",
        "def display_menu():\n",
        "    \"\"\"Displays the main menu options to the user.\"\"\"\n",
        "    print(\"\\n請選擇功能：\")\n",
        "    print(\"1. 新增支出/收入\")\n",
        "    print(\"2. 顯示所有記帳項目 (依時間排序)\")\n",
        "    print(\"3. 顯示財務總結\")\n",
        "    print(\"q. 退出\")\n",
        "\n",
        "while True:\n",
        "    display_menu()\n",
        "    choice = input(\"請輸入您的選擇: \").lower()\n",
        "\n",
        "    if choice == '1':\n",
        "        date_input, time_input, item_input, amount_input, category_input = get_expense_input()\n",
        "        if all([date_input, time_input, item_input, amount_input is not None, category_input]):\n",
        "            add_expense(date_input, time_input, item_input, amount_input, category_input)\n",
        "        else:\n",
        "            print(\"輸入無效，請重試。\")\n",
        "    elif choice == '2':\n",
        "        # Call display_all_items and handle the returned DataFrame\n",
        "        df_items = display_all_items()\n",
        "        if not df_items.empty:\n",
        "            print(\"\\n所有記帳項目 (依時間排序):\")\n",
        "            display(df_items) # Use display() for better formatting in Colab\n",
        "        else:\n",
        "            print(\"Google Sheet 是空的，沒有記帳項目。\")\n",
        "    elif choice == '3':\n",
        "        # Call display_financial_summary and print the returned summary string\n",
        "        summary_string = display_financial_summary()\n",
        "        print(\"\\n\" + summary_string) # Add a newline before printing the summary\n",
        "    elif choice == 'q':\n",
        "        print(\"程式結束。\")\n",
        "        break\n",
        "    else:\n",
        "        print(\"無效的選擇，請重新輸入。\")"
      ]
    },
    {
      "cell_type": "code",
      "execution_count": null,
      "metadata": {
        "id": "d0d51817"
      },
      "outputs": [],
      "source": [
        "import matplotlib.pyplot as plt\n",
        "import io\n",
        "import base64\n",
        "\n",
        "def create_pie_chart(expense_by_category):\n",
        "    \"\"\"Creates a pie chart from the expense by category data.\"\"\"\n",
        "    if not expense_by_category:\n",
        "        # Return None or handle empty data case\n",
        "        return None\n",
        "\n",
        "    labels = expense_by_category.keys()\n",
        "    sizes = expense_by_category.values()\n",
        "    colors = ['gold', 'yellowgreen', 'lightcoral', 'lightskyblue', 'lightgreen'] # Example colors\n",
        "\n",
        "    fig1, ax1 = plt.subplots()\n",
        "    ax1.pie(sizes, labels=labels, autopct='%1.1f%%', startangle=90, colors=colors)\n",
        "    ax1.axis('equal')  # Equal aspect ratio ensures that pie is drawn as a circle.\n",
        "\n",
        "    # Save the plot to a bytes object\n",
        "    buf = io.BytesIO()\n",
        "    plt.savefig(buf, format='png')\n",
        "    buf.seek(0)\n",
        "    plt.close(fig1) # Close the plot to free up memory\n",
        "\n",
        "    return buf\n",
        "\n",
        "# Modify display_financial_summary_ui to also return the plot\n",
        "def display_financial_summary_ui():\n",
        "    \"\"\"Calls the financial summary function and prepares data and plot for UI display.\"\"\"\n",
        "    summary_data = display_financial_summary()\n",
        "\n",
        "    # Format the summary data into a string for the Textbox output\n",
        "    summary_string = f\"財務總結:\\n\"\n",
        "    summary_string += f\"總收入: {summary_data['total_income']:.2f} 元\\n\"\n",
        "    summary_string += f\"總支出: {summary_data['total_expense']:.2f} 元\\n\"\n",
        "    summary_string += f\"總餘額: {summary_data['total_balance']:.2f} 元\\n\\n\"\n",
        "\n",
        "    summary_string += \"各分類支出:\\n\"\n",
        "    if summary_data['expense_by_category']:\n",
        "        for category, amount in summary_data['expense_by_category'].items():\n",
        "            summary_string += f\"{category}: {amount:.2f} 元\\n\"\n",
        "    else:\n",
        "        summary_string += \"無分類支出資料。\"\n",
        "\n",
        "    # Create the pie chart\n",
        "    pie_chart = create_pie_chart(summary_data['expense_by_category'])\n",
        "\n",
        "    # Return both the summary string and the pie chart (BytesIO object)\n",
        "    return summary_string, pie_chart"
      ]
    },
    {
      "cell_type": "code",
      "execution_count": null,
      "metadata": {
        "id": "ce529737",
        "colab": {
          "base_uri": "https://localhost:8080/",
          "height": 646
        },
        "outputId": "4d81496c-7be9-44dd-dea9-5c4d792ae092"
      },
      "outputs": [
        {
          "metadata": {
            "tags": null
          },
          "name": "stdout",
          "output_type": "stream",
          "text": [
            "It looks like you are running Gradio on a hosted Jupyter notebook, which requires `share=True`. Automatically setting `share=True` (you can turn this off by setting `share=False` in `launch()` explicitly).\n",
            "\n",
            "Colab notebook detected. This cell will run indefinitely so that you can see errors and logs. To turn off, set debug=False in launch().\n",
            "* Running on public URL: https://3a82a72ff04fcae4db.gradio.live\n",
            "\n",
            "This share link expires in 1 week. For free permanent hosting and GPU upgrades, run `gradio deploy` from the terminal in the working directory to deploy to Hugging Face Spaces (https://huggingface.co/spaces)\n"
          ]
        },
        {
          "data": {
            "text/html": [
              "<div><iframe src=\"https://3a82a72ff04fcae4db.gradio.live\" width=\"100%\" height=\"500\" allow=\"autoplay; camera; microphone; clipboard-read; clipboard-write;\" frameborder=\"0\" allowfullscreen></iframe></div>"
            ],
            "text/plain": [
              "<IPython.core.display.HTML object>"
            ]
          },
          "metadata": {},
          "output_type": "display_data"
        }
      ],
      "source": [
        "# Import the necessary Gradio library (already imported in cell 38778d21, but good practice to include where used)\n",
        "import gradio as gr\n",
        "\n",
        "# Define a function that will be called by Gradio to handle adding an expense\n",
        "# This function will take inputs from the Gradio interface and call your add_expense function\n",
        "def add_expense_ui(date_str, time_str, item, amount_str, category_input):\n",
        "    try:\n",
        "        amount = float(amount_str)\n",
        "        # Call the existing add_expense function\n",
        "        add_expense(date_str, time_str, item, amount, category_input)\n",
        "        return \"新增記帳項目成功！\"\n",
        "    except ValueError:\n",
        "        return \"金額輸入無效。請輸入數字。\"\n",
        "    except Exception as e:\n",
        "        return f\"新增記帳項目時發生錯誤: {e}\"\n",
        "\n",
        "# Define a function to display all items\n",
        "def display_all_items_ui():\n",
        "    # Call the existing display_all_items function which now returns the DataFrame\n",
        "    df_items = display_all_items()\n",
        "    # Return the DataFrame for Gradio to display\n",
        "    return df_items\n",
        "\n",
        "# Define a function to display the financial summary\n",
        "def display_financial_summary_ui():\n",
        "     # Call the existing display_financial_summary function\n",
        "    display_financial_summary()\n",
        "    # Similar to display_all_items_ui, assuming display_financial_summary handles output.\n",
        "    return \"已在控制台顯示財務總結。\" # Return a simple message for the UI\n",
        "\n",
        "# Create the Gradio Interface\n",
        "# We will create separate interfaces or a tabbed interface for different functionalities later if needed.\n",
        "# Let's start with the 'Add Expense' interface.\n",
        "\n",
        "add_expense_interface = gr.Interface(\n",
        "    fn=add_expense_ui, # The function to call when the interface is used\n",
        "    inputs=[\n",
        "        gr.Textbox(label=\"日期 (YYYY-MM-DD)\"),\n",
        "        gr.Textbox(label=\"時間 (HH:MM)\"),\n",
        "        gr.Textbox(label=\"項目\"),\n",
        "        gr.Textbox(label=\"金額\"),\n",
        "        gr.Radio(['1', '2', '3'], label=\"分類：1. 收入、2. 吃喝、3. 娛樂\") # Use Radio for categories\n",
        "    ],\n",
        "    outputs=\"text\", # The output will be text indicating success or failure\n",
        "    title=\"新增支出/收入\",\n",
        "    description=\"請輸入您的記帳項目詳細資訊。\"\n",
        ")\n",
        "\n",
        "# You can create separate interfaces for other functions\n",
        "display_items_interface = gr.Interface(\n",
        "    fn=display_all_items_ui,\n",
        "    inputs=None, # No inputs needed to display all items\n",
        "    # Change the output to gr.DataFrame to display the returned DataFrame\n",
        "    outputs=gr.DataFrame(label=\"所有記帳項目 (依時間排序)\"),\n",
        "    title=\"顯示所有記帳項目\",\n",
        "    description=\"點擊按鈕顯示所有記帳項目 (依時間排序)。\"\n",
        ")\n",
        "\n",
        "financial_summary_interface = gr.Interface(\n",
        "    fn=display_financial_summary_ui,\n",
        "    inputs=None, # No inputs needed\n",
        "    outputs=\"text\", # Output a message\n",
        "    title=\"顯示財務總結\",\n",
        "    description=\"點擊按鈕顯示財務總結 (將顯示在控制台)。\"\n",
        ")\n",
        "\n",
        "\n",
        "# To present these as a single application with tabs, we can use gr.TabbedInterface or gr.Blocks\n",
        "# Let's use gr.TabbedInterface for simplicity\n",
        "tabbed_interface = gr.TabbedInterface(\n",
        "    [add_expense_interface, display_items_interface, financial_summary_interface],\n",
        "    [\"新增支出/收入\", \"顯示所有記帳項目\", \"顯示財務總結\"]\n",
        ")\n",
        "\n",
        "\n",
        "# Launch the Gradio app\n",
        "tabbed_interface.launch(debug=True) # Set debug=True for more detailed error messages"
      ]
    },
    {
      "cell_type": "markdown",
      "metadata": {
        "id": "fb22237d"
      },
      "source": [
        "# Task\n",
        "Modify the Gradio interface to display the accounting items table automatically when the \"Display All Items\" tab is selected, instead of requiring a button click."
      ]
    },
    {
      "cell_type": "markdown",
      "metadata": {
        "id": "d7eba6bf"
      },
      "source": [
        "## 修改 `display all items ui` 函式\n",
        "\n",
        "### Subtask:\n",
        "確認 `display_all_items_ui` 函式正確地讀取資料並返回 DataFrame。\n"
      ]
    },
    {
      "cell_type": "markdown",
      "metadata": {
        "id": "1274e6a9"
      },
      "source": [
        "**Reasoning**:\n",
        "Review the `display_all_items_ui` and `display_all_items` functions to confirm that `display_all_items` reads data and returns a DataFrame and that `display_all_items_ui` correctly returns this DataFrame.\n",
        "\n"
      ]
    },
    {
      "cell_type": "code",
      "execution_count": null,
      "metadata": {
        "id": "387f717d"
      },
      "outputs": [],
      "source": [
        "# Reviewing the display_all_items function\n",
        "# It connects to Google Sheet, reads data, creates a DataFrame,\n",
        "# processes '金額', '日期', and '時間' columns, sorts by '時間戳記',\n",
        "# and returns a DataFrame with selected columns. This seems correct.\n",
        "\n",
        "# Reviewing the display_all_items_ui function\n",
        "# It calls display_all_items() and returns the result. This also seems correct.\n",
        "\n",
        "# No changes are needed to these functions for this specific subtask as they already\n",
        "# perform the required actions of reading data and returning a DataFrame.\n",
        "print(\"Reviewed display_all_items and display_all_items_ui functions. They are set up to read data and return a DataFrame as required.\")"
      ]
    },
    {
      "cell_type": "markdown",
      "metadata": {
        "id": "0fa1572d"
      },
      "source": [
        "## 轉換為 `gr.blocks`\n",
        "\n",
        "### Subtask:\n",
        "將目前的 `gr.TabbedInterface` 結構轉換為使用 `gr.Blocks` 來構建分頁介面。\n"
      ]
    },
    {
      "cell_type": "markdown",
      "metadata": {
        "id": "47a916e6"
      },
      "source": [
        "**Reasoning**:\n",
        "The subtask requires converting the Gradio interface from `gr.TabbedInterface` to `gr.Blocks`. This involves removing the old interface code and creating a new structure using `gr.Blocks`, `gr.Tabs`, and `gr.TabItem` for each functionality.\n",
        "\n"
      ]
    },
    {
      "cell_type": "code",
      "execution_count": null,
      "metadata": {
        "id": "f56d3683"
      },
      "outputs": [],
      "source": [
        "# Remove the existing gr.TabbedInterface creation and launch code\n",
        "# This part is commented out as we are replacing it with gr.Blocks\n",
        "# tabbed_interface = gr.TabbedInterface(\n",
        "#     [add_expense_interface, display_items_interface, financial_summary_interface],\n",
        "#     [\"新增支出/收入\", \"顯示所有記帳項目\", \"顯示財務總結\"]\n",
        "# )\n",
        "# tabbed_interface.launch(debug=True)\n",
        "\n",
        "# Create a new Blocks app instance\n",
        "with gr.Blocks() as demo_blocks:\n",
        "    # Create a tabbed container\n",
        "    with gr.Tabs() as tabs:\n",
        "        # Create a TabItem for adding expense\n",
        "        with gr.TabItem(\"新增支出/收入\"):\n",
        "            # Place the components for adding expense here\n",
        "            # These components are based on the original add_expense_interface inputs\n",
        "            gr.Textbox(label=\"日期 (YYYY-MM-DD)\"),\n",
        "            gr.Textbox(label=\"時間 (HH:MM)\"),\n",
        "            gr.Textbox(label=\"項目\"),\n",
        "            gr.Textbox(label=\"金額\"),\n",
        "            gr.Radio(['1', '2', '3'], label=\"分類：1. 收入、2. 吃喝、3. 娛樂\"),\n",
        "            gr.Button(\"新增項目\") # Add a button to trigger the add_expense_ui function\n",
        "\n",
        "        # Create a TabItem for displaying all items\n",
        "        with gr.TabItem(\"顯示所有記帳項目\"):\n",
        "            # Place the components for displaying all items here\n",
        "            # The display_items_interface didn't have inputs, only output\n",
        "            # We will add a button here to trigger the display for now\n",
        "            gr.Button(\"顯示所有項目\")\n",
        "            # The output will be a DataFrame, but we are just structuring now\n",
        "            gr.DataFrame(label=\"所有記帳項目 (依時間排序)\") # Placeholder for the output DataFrame\n",
        "\n",
        "\n",
        "        # Create a TabItem for displaying financial summary\n",
        "        with gr.TabItem(\"顯示財務總結\"):\n",
        "             # Place the components for displaying financial summary here\n",
        "             # financial_summary_interface had no inputs, only output\n",
        "             gr.Button(\"顯示財務總結\")\n",
        "             gr.Textbox(label=\"財務總結\") # Placeholder for the output text\n",
        "\n",
        "# Launch the Blocks app (optional for this step, but good for testing structure)\n",
        "# demo_blocks.launch(debug=True)"
      ]
    },
    {
      "cell_type": "markdown",
      "metadata": {
        "id": "5f322aa2"
      },
      "source": [
        "## 定義 gradio 元件\n",
        "\n",
        "### Subtask:\n",
        "在 `gr.Blocks` 中明確定義每個分頁所需的 Gradio 元件，包括用於顯示表格的 `gr.DataFrame`。\n"
      ]
    },
    {
      "cell_type": "markdown",
      "metadata": {
        "id": "10480ca8"
      },
      "source": [
        "**Reasoning**:\n",
        "Based on the instructions and the previous step, I need to ensure that the `gr.Blocks` structure correctly defines all necessary input and output components for each tab with appropriate labels, including buttons to trigger actions and `gr.DataFrame` for displaying the table. I will refine the components within each `gr.TabItem` as specified.\n",
        "\n"
      ]
    },
    {
      "cell_type": "code",
      "execution_count": null,
      "metadata": {
        "id": "c9c8e957"
      },
      "outputs": [],
      "source": [
        "# Create a new Blocks app instance\n",
        "with gr.Blocks() as demo_blocks:\n",
        "    # Create a tabbed container\n",
        "    with gr.Tabs() as tabs:\n",
        "        # Create a TabItem for adding expense\n",
        "        with gr.TabItem(\"新增支出/收入\"):\n",
        "            # Define inputs for adding expense\n",
        "            add_date_input = gr.Textbox(label=\"日期 (YYYY-MM-DD)\")\n",
        "            add_time_input = gr.Textbox(label=\"時間 (HH:MM)\")\n",
        "            add_item_input = gr.Textbox(label=\"項目\")\n",
        "            add_amount_input = gr.Textbox(label=\"金額\")\n",
        "            add_category_input = gr.Radio(['1', '2', '3'], label=\"分類：1. 收入、2. 吃喝、3. 娛樂\")\n",
        "            # Define a button to trigger the add expense function\n",
        "            add_expense_button = gr.Button(\"新增項目\")\n",
        "            # Define the output for the add expense function\n",
        "            add_expense_output = gr.Textbox(label=\"結果\")\n",
        "\n",
        "\n",
        "        # Create a TabItem for displaying all items\n",
        "        with gr.TabItem(\"顯示所有記帳項目\"):\n",
        "            # Define a button to trigger displaying all items\n",
        "            display_items_button = gr.Button(\"顯示所有項目\")\n",
        "            # Define the output as a DataFrame to display the items\n",
        "            display_items_output = gr.DataFrame(label=\"所有記帳項目 (依時間排序)\")\n",
        "\n",
        "\n",
        "        # Create a TabItem for displaying financial summary\n",
        "        with gr.TabItem(\"顯示財務總結\"):\n",
        "             # Define a button to trigger displaying the summary\n",
        "             display_summary_button = gr.Button(\"顯示財務總結\")\n",
        "             # Define the output as a Textbox to display the summary (which is printed to console by the function)\n",
        "             # We'll keep a Textbox placeholder here for potential future direct display in UI\n",
        "             display_summary_output = gr.Textbox(label=\"財務總結結果 (請查看控制台)\")\n",
        "\n",
        "# Note: We are not connecting the backend logic (functions) to these components yet.\n",
        "# That will be done in a subsequent step. This step is purely about defining the UI components."
      ]
    },
    {
      "cell_type": "markdown",
      "metadata": {
        "id": "186f885e"
      },
      "source": [
        "## 處理分頁切換事件\n",
        "\n",
        "### Subtask:\n",
        "使用 Gradio 的事件處理機制（例如 `gr.Tabs` 的 `select` 事件）來偵測使用者何時切換到「顯示所有記帳項目」分頁。\n"
      ]
    },
    {
      "cell_type": "markdown",
      "metadata": {
        "id": "38e5fccd"
      },
      "source": [
        "**Reasoning**:\n",
        "Use gr.Blocks and gr.Tabs to structure the interface and then use the .select() method on the tabs object to trigger the display_all_items_ui function when the second tab (index 1) is selected.\n",
        "\n"
      ]
    },
    {
      "cell_type": "code",
      "execution_count": null,
      "metadata": {
        "id": "a186392b"
      },
      "outputs": [],
      "source": [
        "# Create a new Blocks app instance\n",
        "with gr.Blocks() as demo_blocks:\n",
        "    # Create a tabbed container\n",
        "    with gr.Tabs() as tabs:\n",
        "        # Create a TabItem for adding expense\n",
        "        with gr.TabItem(\"新增支出/收入\", id=0):\n",
        "            # Define inputs for adding expense\n",
        "            add_date_input = gr.Textbox(label=\"日期 (YYYY-MM-DD)\")\n",
        "            add_time_input = gr.Textbox(label=\"時間 (HH:MM)\")\n",
        "            add_item_input = gr.Textbox(label=\"項目\")\n",
        "            add_amount_input = gr.Textbox(label=\"金額\")\n",
        "            add_category_input = gr.Radio(['1', '2', '3'], label=\"分類：1. 收入、2. 吃喝、3. 娛樂\")\n",
        "            # Define a button to trigger the add expense function\n",
        "            add_expense_button = gr.Button(\"新增項目\")\n",
        "            # Define the output for the add expense function\n",
        "            add_expense_output = gr.Textbox(label=\"結果\")\n",
        "\n",
        "            # Link the button click to the add_expense_ui function\n",
        "            add_expense_button.click(\n",
        "                fn=add_expense_ui,\n",
        "                inputs=[add_date_input, add_time_input, add_item_input, add_amount_input, add_category_input],\n",
        "                outputs=add_expense_output\n",
        "            )\n",
        "\n",
        "\n",
        "        # Create a TabItem for displaying all items\n",
        "        with gr.TabItem(\"顯示所有記帳項目\", id=1) as display_items_tab:\n",
        "            # Define the output as a DataFrame to display the items\n",
        "            display_items_output = gr.DataFrame(label=\"所有記帳項目 (依時間排序)\")\n",
        "\n",
        "        # Create a TabItem for displaying financial summary\n",
        "        with gr.TabItem(\"顯示財務總結\", id=2):\n",
        "             # Define the output as a Textbox to display the summary (which is printed to console by the function)\n",
        "             # We'll keep a Textbox placeholder here for potential future direct display in UI\n",
        "             display_summary_output = gr.Textbox(label=\"財務總結結果 (請查看控制台)\")\n",
        "             # Add a button to trigger displaying the summary\n",
        "             display_summary_button = gr.Button(\"顯示財務總結\")\n",
        "             display_summary_button.click(\n",
        "                 fn=display_financial_summary_ui,\n",
        "                 inputs=None,\n",
        "                 outputs=display_summary_output\n",
        "             )\n",
        "\n",
        "    # Use the .select() method on the tabs object to trigger an action when a tab is selected\n",
        "    # The index for \"顯示所有記帳項目\" is 1 (0-indexed)\n",
        "    tabs.select(\n",
        "        fn=display_all_items_ui,\n",
        "        inputs=None, # No inputs needed for display_all_items_ui\n",
        "        outputs=display_items_output, # The output DataFrame will be updated\n",
        "        queue=False # Setting queue to False for immediate execution on select\n",
        "    )\n",
        "\n",
        "\n",
        "# Launch the Blocks app\n",
        "demo_blocks.launch(debug=True)"
      ]
    },
    {
      "cell_type": "markdown",
      "metadata": {
        "id": "3ca2d588"
      },
      "source": [
        "**Reasoning**:\n",
        "The traceback indicates that the `gr.Tabs.select()` method does not accept the `every` parameter. I need to remove this parameter from the `.select()` call.\n",
        "\n"
      ]
    },
    {
      "cell_type": "code",
      "execution_count": null,
      "metadata": {
        "id": "1VaYet7JNe9f",
        "colab": {
          "base_uri": "https://localhost:8080/",
          "height": 680
        },
        "outputId": "1410d193-d01f-4936-e936-88f9a7a6598d"
      },
      "outputs": [
        {
          "output_type": "stream",
          "name": "stdout",
          "text": [
            "It looks like you are running Gradio on a hosted Jupyter notebook, which requires `share=True`. Automatically setting `share=True` (you can turn this off by setting `share=False` in `launch()` explicitly).\n",
            "\n",
            "Colab notebook detected. This cell will run indefinitely so that you can see errors and logs. To turn off, set debug=False in launch().\n",
            "* Running on public URL: https://470376ae01279a26f0.gradio.live\n",
            "\n",
            "This share link expires in 1 week. For free permanent hosting and GPU upgrades, run `gradio deploy` from the terminal in the working directory to deploy to Hugging Face Spaces (https://huggingface.co/spaces)\n"
          ]
        },
        {
          "output_type": "display_data",
          "data": {
            "text/plain": [
              "<IPython.core.display.HTML object>"
            ],
            "text/html": [
              "<div><iframe src=\"https://470376ae01279a26f0.gradio.live\" width=\"100%\" height=\"500\" allow=\"autoplay; camera; microphone; clipboard-read; clipboard-write;\" frameborder=\"0\" allowfullscreen></iframe></div>"
            ]
          },
          "metadata": {}
        },
        {
          "output_type": "stream",
          "name": "stdout",
          "text": [
            "Keyboard interruption in main thread... closing server.\n",
            "Killing tunnel 127.0.0.1:7860 <> https://470376ae01279a26f0.gradio.live\n"
          ]
        },
        {
          "output_type": "execute_result",
          "data": {
            "text/plain": []
          },
          "metadata": {},
          "execution_count": 10
        }
      ],
      "source": [
        "import gradio as gr\n",
        "import matplotlib.pyplot as plt\n",
        "import io\n",
        "import base64\n",
        "import pandas as pd\n",
        "from datetime import datetime\n",
        "import re\n",
        "import gspread\n",
        "from google.colab import auth\n",
        "from google.auth import default\n",
        "import matplotlib.font_manager as fm # Import font_manager\n",
        "\n",
        "# Authenticate and authorize gspread\n",
        "auth.authenticate_user()\n",
        "creds, _ = default()\n",
        "gc = gspread.authorize(creds)\n",
        "\n",
        "# Initialize global variables (if needed, though add_expense now uses return values)\n",
        "# total_income = 0 # This global variable is not used in the current functions\n",
        "\n",
        "\n",
        "# Define the existing add_expense function (needed for add_expense_ui)\n",
        "def add_expense(date_str, time_str, item, amount, category_input):\n",
        "    try:\n",
        "        # Validate and correct date format (YYYY-MM-DD)\n",
        "        date_match = re.match(r'(\\d{4})[=/-](\\d{1,2})[=/-](\\d{1,2})', date_str)\n",
        "        if not date_match:\n",
        "            print(\"日期格式錯誤：請使用 YYYY-MM-DD 格式。\")\n",
        "            return \"新增失敗：日期格式錯誤。\" # Return error message\n",
        "\n",
        "        year, month, day = date_match.groups()\n",
        "        # Attempt to correct month and day if they are single digits\n",
        "        corrected_date_str = f\"{int(year):04d}-{int(month):02d}-{int(day):02d}\"\n",
        "\n",
        "        # Validate and correct time format (HH:MM)\n",
        "        time_match = re.match(r'^(\\d{1,2}):(\\d{1,2})$', time_str)\n",
        "        if not time_match:\n",
        "            print(\"時間格式錯誤：請使用 HH:MM 格式 (24小時制)。\")\n",
        "            return \"新增失敗：時間格式錯誤。\" # Return error message\n",
        "\n",
        "        hour, minute = time_match.groups()\n",
        "        # Attempt to correct hour and minute if they are single digits and validate values\n",
        "        try:\n",
        "            corrected_time_str = f\"{int(hour):02d}:{int(minute):02d}\"\n",
        "            # Further validation for hour and minute values\n",
        "            if not (0 <= int(hour) <= 23 and 0 <= int(minute) <= 59):\n",
        "                 print(\"時間格式錯誤：請使用 HH:MM 格式 (24小時制)。時或分超出有效範圍。\")\n",
        "                 return \"新增失敗：時間超出有效範圍。\" # Return error message\n",
        "        except ValueError:\n",
        "             print(\"時間格式錯誤：請使用 HH:MM 格式 (24小時制)。\")\n",
        "             return \"新增失敗：時間格式錯誤。\" # Return error message\n",
        "\n",
        "\n",
        "        # Combine corrected date and time strings and convert to datetime object\n",
        "        datetime_str = f\"{corrected_date_str} {corrected_time_str}\"\n",
        "        datetime_obj = datetime.strptime(datetime_str, '%Y-%m-%d %H:%M')\n",
        "\n",
        "\n",
        "        # --- Category input and validation ---\n",
        "        category_map = {'1': '收入', '2': '吃喝', '3': '娛樂'}\n",
        "\n",
        "        if category_input not in category_map:\n",
        "            print(\"無效的分類輸入。請輸入 1, 2, 或 3。\")\n",
        "            return \"新增失敗：無效的分類輸入。\" # Return error message\n",
        "\n",
        "        category = category_map[category_input]\n",
        "        # --- End of category validation ---\n",
        "\n",
        "\n",
        "        # Create a new row as a list for gspread\n",
        "        new_row_list = [datetime_obj.date().strftime('%Y-%m-%d'),\n",
        "                        datetime_obj.time().strftime('%H:%M'),\n",
        "                        item,\n",
        "                        amount,\n",
        "                        category] # Add the category here\n",
        "\n",
        "\n",
        "        # Append the new row to the Google Sheet using gspread\n",
        "        sheet = gc.open_by_url(\"https://docs.google.com/spreadsheets/d/1hWNTg2T0acFyg1xrtLd35HZJxOQFrg0bVyBdgcWYTJ4/edit?gid=0#gid=0\")\n",
        "        worksheet = sheet.sheet1 # Assuming the data is in the first sheet\n",
        "\n",
        "        worksheet.append_row(new_row_list)\n",
        "\n",
        "        print(\"Row added to Google Sheet successfully!\")\n",
        "        return \"新增記帳項目成功！\" # Return success message\n",
        "\n",
        "    except ValueError as e:\n",
        "        print(f\"Error adding row: {e}\")\n",
        "        return f\"新增失敗：請確保日期和時間格式正確。\\n錯誤訊息: {e}\"\n",
        "    except Exception as e:\n",
        "        print(f\"An unexpected error occurred: {e}\")\n",
        "        return f\"新增記帳項目時發生意外錯誤: {e}\"\n",
        "\n",
        "\n",
        "# Define the existing display_all_items function here\n",
        "def display_all_items():\n",
        "    \"\"\"Reads, sorts, and displays all items from the Google Sheet.\"\"\"\n",
        "    try:\n",
        "        # Access the Google Sheet using the gc object and the sheet URL\n",
        "        sheet = gc.open_by_url(\"https://docs.google.com/spreadsheets/d/1hWNTg2T0acFyg1xrtLd35HZJxOQFrg0bVyBdgcWYTJ4/edit?gid=0#gid=0\")\n",
        "        worksheet = sheet.sheet1\n",
        "\n",
        "        # Read all data from the worksheet\n",
        "        data = worksheet.get_all_values()\n",
        "\n",
        "        if len(data) > 1:\n",
        "            df = pd.DataFrame(data[1:], columns=data[0])\n",
        "\n",
        "            # Ensure '金額' column is numeric, coercing errors to NaN\n",
        "            df['金額'] = pd.to_numeric(df['金額'], errors='coerce')\n",
        "            df.dropna(subset=['金額'], inplace=True)\n",
        "\n",
        "            # Ensure '日期' and '時間' columns exist\n",
        "            if '日期' in df.columns and '時間' in df.columns:\n",
        "                 # Combine '日期' and '時間' into a single datetime column\n",
        "                 df['時間戳記'] = df['日期'] + ' ' + df['時間']\n",
        "                 # Convert the '時間戳記' column to datetime objects, handling potential errors\n",
        "                 df['時間戳記'] = pd.to_datetime(df['時間戳記'], errors='coerce')\n",
        "                 df.dropna(subset=['時間戳記'], inplace=True) # Drop rows with invalid datetime\n",
        "\n",
        "                 # Sort the DataFrame by the new '時間戳記' column in ascending order\n",
        "                 df = df.sort_values(by='時間戳記', ascending=True)\n",
        "\n",
        "                 # Return the DataFrame instead of displaying it here\n",
        "                 # Ensure column order matches the expected output in UI\n",
        "                 return df[['日期', '時間', '項目', '金額', '類型']]\n",
        "            else:\n",
        "                 print(\"Google Sheet 中缺少 '日期' 或 '時間' 欄位，無法依時間排序顯示。\")\n",
        "                 # Return the DataFrame without sorting if date/time columns are missing\n",
        "                 # Ensure it still has the expected columns if they exist\n",
        "                 cols_to_return = ['日期', '時間', '項目', '金額', '類型']\n",
        "                 existing_cols = [col for col in cols_to_return if col in df.columns]\n",
        "                 return df[existing_cols]\n",
        "\n",
        "\n",
        "        else:\n",
        "            print(\"Google Sheet 是空的，沒有記帳項目。\")\n",
        "            return pd.DataFrame(columns=['日期', '時間', '項目', '金額', '類型']) # Return empty DataFrame\n",
        "\n",
        "    except Exception as e:\n",
        "        print(f\"讀取或顯示所有項目時發生錯誤: {e}\")\n",
        "        # Return an empty DataFrame and print error\n",
        "        return pd.DataFrame(columns=['日期', '時間', '項目', '金額', '類型'])\n",
        "\n",
        "\n",
        "\n",
        "# Define the existing display_financial_summary function here\n",
        "# This function is used by display_financial_summary_ui\n",
        "def display_financial_summary():\n",
        "    \"\"\"Reads data, calculates financial summary, and gets Gemini analysis.\"\"\"\n",
        "    try:\n",
        "        # Access the Google Sheet and read data (similar to display_all_items)\n",
        "        sheet = gc.open_by_url(\"https://docs.google.com/spreadsheets/d/1hWNTg2T0acFyg1xrtLd35HZJxOQFrg0bVyBdgcWYTJ4/edit?gid=0#gid=0\")\n",
        "        worksheet = sheet.sheet1\n",
        "        data = worksheet.get_all_values()\n",
        "\n",
        "        summary_data = {\n",
        "            \"total_income\": 0.00,\n",
        "            \"total_expense\": 0.00,\n",
        "            \"total_balance\": 0.00,\n",
        "            \"expense_by_category\": {},\n",
        "            \"gemini_analysis\": \"目前沒有足夠的資料進行分析。\" # Initialize with a default message\n",
        "        }\n",
        "\n",
        "        if len(data) > 1:\n",
        "            df = pd.DataFrame(data[1:], columns=data[0])\n",
        "\n",
        "            # Ensure '金額' column is numeric and '類型' column exists\n",
        "            df['金額'] = pd.to_numeric(df['金額'], errors='coerce')\n",
        "            df.dropna(subset=['金額'], inplace=True)\n",
        "            if '類型' not in df.columns:\n",
        "                df['類型'] = '未知' # Default category if column is missing\n",
        "\n",
        "            # Calculate total income and expenses\n",
        "            total_income = df[df['類型'] == '收入']['金額'].sum()\n",
        "            total_expense = df[df['類型'] != '收入']['金額'].sum()\n",
        "            total_balance = total_income - total_expense\n",
        "\n",
        "            # Calculate expenses by category (excluding '收入')\n",
        "            expense_by_category = df[df['類型'] != '收入'].groupby('類型')['金額'].sum().to_dict()\n",
        "\n",
        "            summary_data.update({\n",
        "                \"total_income\": total_income,\n",
        "                \"total_expense\": total_expense,\n",
        "                \"total_balance\": total_balance,\n",
        "                \"expense_by_category\": expense_by_category\n",
        "            })\n",
        "\n",
        "            # --- Add Gemini Analysis ---\n",
        "            try:\n",
        "                # Prepare data for Gemini analysis\n",
        "                analysis_prompt = f\"\"\"\n",
        "                請根據以下的財務資料進行分析並提供建議：\n",
        "\n",
        "                總收入: {total_income:.2f} 元\n",
        "                總支出: {total_expense:.2f} 元\n",
        "                總餘額: {total_balance:.2f} 元\n",
        "\n",
        "                各分類支出:\n",
        "                \"\"\"\n",
        "                if expense_by_category:\n",
        "                    for category, amount in expense_by_category.items():\n",
        "                        analysis_prompt += f\"- {category}: {amount:.2f} 元\\n\"\n",
        "                else:\n",
        "                    analysis_prompt += \"無分類支出資料。\\n\"\n",
        "\n",
        "                analysis_prompt += \"\\n請提供一個簡潔的財務分析和一些關於支出管理的建議 (請用繁體中文回答)。\"\n",
        "\n",
        "                # Ensure gemini_model is initialized (from a previous cell)\n",
        "                if 'gemini_model' in globals() and gemini_model:\n",
        "                    response = gemini_model.generate_content(analysis_prompt)\n",
        "                    summary_data[\"gemini_analysis\"] = response.text\n",
        "                else:\n",
        "                    summary_data[\"gemini_analysis\"] = \"Gemini 模型尚未初始化，無法進行分析。\"\n",
        "\n",
        "\n",
        "            except Exception as gemini_e:\n",
        "                summary_data[\"gemini_analysis\"] = f\"呼叫 Gemini API 時發生錯誤: {gemini_e}\"\n",
        "            # --- End of Gemini Analysis ---\n",
        "\n",
        "\n",
        "        return summary_data\n",
        "\n",
        "    except Exception as e:\n",
        "        print(f\"計算財務總結時發生錯誤: {e}\")\n",
        "        # Return initial summary_data with error message in analysis\n",
        "        summary_data[\"gemini_analysis\"] = f\"讀取或計算財務資料時發生錯誤: {e}\"\n",
        "        return summary_data\n",
        "\n",
        "# Create a pie chart function (assuming this was in a previous cell and needed here)\n",
        "def create_pie_chart(expense_by_category):\n",
        "    \"\"\"Creates a pie chart from the expense by category data.\"\"\"\n",
        "    if not expense_by_category:\n",
        "        # Return None or handle empty data case\n",
        "        return None\n",
        "\n",
        "    labels = expense_by_category.keys()\n",
        "    sizes = expense_by_category.values()\n",
        "    colors = ['gold', 'yellowgreen', 'lightcoral', 'lightskyblue', 'lightgreen'] # Example colors\n",
        "\n",
        "    # Configure matplotlib to use a font that supports Chinese characters\n",
        "    # This assumes the 'ttf-wqy-zenhei' font is installed (done in a separate cell)\n",
        "    plt.rcParams['font.sans-serif'] = ['WenQuanYi Zen Hei'] # Set the font\n",
        "    plt.rcParams['axes.unicode_minus'] = False # Avoid displaying minus sign as box\n",
        "\n",
        "\n",
        "    fig1, ax1 = plt.subplots()\n",
        "    ax1.pie(sizes, labels=labels, autopct='%1.1f%%', startangle=90, colors=colors)\n",
        "    ax1.axis('equal')  # Equal aspect ratio ensures that pie is drawn as a circle.\n",
        "\n",
        "    # Save the plot to a bytes object\n",
        "    buf = io.BytesIO()\n",
        "    plt.savefig(buf, format='png')\n",
        "    buf.seek(0)\n",
        "    plt.close(fig1) # Close the plot to free up memory\n",
        "\n",
        "    return buf\n",
        "\n",
        "# Define the display_financial_summary_ui to call the updated function and handle its return\n",
        "def display_financial_summary_ui():\n",
        "    \"\"\"Calls the financial summary function and prepares data and plot for UI display.\"\"\"\n",
        "    summary_data = display_financial_summary()\n",
        "\n",
        "    # Format the summary data into a string for the Textbox output\n",
        "    summary_string = f\"財務總結:\\n\"\n",
        "    summary_string += f\"總收入: {summary_data['total_income']:.2f} 元\\n\"\n",
        "    summary_string += f\"總支出: {summary_data['total_expense']:.2f} 元\\n\"\n",
        "    summary_string += f\"總餘額: {summary_data['total_balance']:.2f} 元\\n\\n\"\n",
        "\n",
        "    summary_string += \"各分類支出:\\n\"\n",
        "    if summary_data['expense_by_category']:\n",
        "        for category, amount in summary_data['expense_by_category'].items():\n",
        "            summary_string += f\"{category}: {amount:.2f} 元\\n\"\n",
        "    else:\n",
        "        summary_string += \"無分類支出資料。\"\n",
        "\n",
        "    # Add Gemini Analysis to the summary string\n",
        "    summary_string += \"\\n\\nGemini 財務分析與建議:\\n\"\n",
        "    summary_string += summary_data.get(\"gemini_analysis\", \"無分析結果。\") # Use .get for safety\n",
        "\n",
        "\n",
        "    # Create the pie chart\n",
        "    pie_chart = create_pie_chart(summary_data['expense_by_category'])\n",
        "\n",
        "    # Return the summary string, the pie chart (BytesIO object), and the Gemini analysis\n",
        "    # Note: The order here must match the order of outputs in the .click() event\n",
        "    return summary_string, pie_chart, summary_data.get(\"gemini_analysis\", \"無分析結果。\")\n",
        "\n",
        "\n",
        "# Define a function that will be called by Gradio to handle adding an expense\n",
        "# This function will take inputs from the Gradio interface and call your add_expense function\n",
        "def add_expense_ui(date_str, time_str, item, amount_str, category_input):\n",
        "    try:\n",
        "        amount = float(amount_str)\n",
        "        # Call the existing add_expense function\n",
        "        # add_expense now returns a string message\n",
        "        result_message = add_expense(date_str, time_str, item, amount, category_input)\n",
        "        return result_message\n",
        "    except ValueError:\n",
        "        return \"新增失敗：金額輸入無效。請輸入數字。\"\n",
        "    except Exception as e:\n",
        "        return f\"新增記帳項目時發生錯誤: {e}\"\n",
        "\n",
        "# Define a function to display all items\n",
        "def display_all_items_ui():\n",
        "    # Call the existing display_all_items function which now returns the DataFrame\n",
        "    df_items = display_all_items()\n",
        "    # Return the DataFrame for Gradio to display\n",
        "    return df_items\n",
        "\n",
        "\n",
        "\n",
        "# Create a new Blocks app instance\n",
        "with gr.Blocks() as demo_blocks:\n",
        "    # Create a tabbed container\n",
        "    with gr.Tabs() as tabs:\n",
        "        # Create a TabItem for adding expense\n",
        "        with gr.TabItem(\"新增支出/收入\", id=0):\n",
        "            # Define inputs for adding expense\n",
        "            add_date_input = gr.Textbox(label=\"日期 (YYYY-MM-DD)\")\n",
        "            add_time_input = gr.Textbox(label=\"時間 (HH:MM)\")\n",
        "            add_item_input = gr.Textbox(label=\"項目\")\n",
        "            add_amount_input = gr.Textbox(label=\"金額\")\n",
        "            add_category_input = gr.Radio(['1', '2', '3'], label=\"分類：1. 收入、2. 吃喝、3. 娛樂\")\n",
        "            # Define a button to trigger the add expense function\n",
        "            add_expense_button = gr.Button(\"新增項目\")\n",
        "            # Define the output for the add expense function\n",
        "            add_expense_output = gr.Textbox(label=\"結果\")\n",
        "\n",
        "            # Link the button click to the add_expense_ui function\n",
        "            add_expense_button.click(\n",
        "                fn=add_expense_ui,\n",
        "                inputs=[add_date_input, add_time_input, add_item_input, add_amount_input, add_category_input],\n",
        "                outputs=add_expense_output\n",
        "            )\n",
        "\n",
        "\n",
        "        # Create a TabItem for displaying all items\n",
        "        with gr.TabItem(\"顯示所有記帳項目\", id=1) as display_items_tab:\n",
        "            # Define the output as a DataFrame to display the items\n",
        "            display_items_output = gr.DataFrame(label=\"所有記帳項目 (依時間排序)\")\n",
        "\n",
        "        # Create a TabItem for displaying financial summary\n",
        "        with gr.TabItem(\"顯示財務總結\", id=2) as display_summary_tab:\n",
        "             # Define the output as a Textbox to display the summary string\n",
        "             display_summary_output = gr.Textbox(label=\"財務總結\")\n",
        "             # Add a component to display the plot\n",
        "             summary_pie_chart = gr.Plot(label=\"分類支出圓餅圖\")\n",
        "             # Add a component to display the Gemini analysis\n",
        "             gemini_analysis_output = gr.Textbox(label=\"Gemini 財務分析與建議\")\n",
        "             # Add a button to trigger displaying the summary and plot\n",
        "             display_summary_button = gr.Button(\"顯示財務總結與圖表\")\n",
        "\n",
        "             # Link the button click to the display_financial_summary_ui function\n",
        "             # The function now returns both the summary string, the plot, and the Gemini analysis\n",
        "             display_summary_button.click(\n",
        "                 fn=display_financial_summary_ui,\n",
        "                 inputs=None, # No inputs needed\n",
        "                 outputs=[display_summary_output, summary_pie_chart, gemini_analysis_output] # Output text, plot, and Gemini analysis\n",
        "             )\n",
        "\n",
        "\n",
        "    # Use the .select() method on the tabs object to trigger an action when a tab is selected\n",
        "    # The index for \"顯示所有記帳項目\" is 1 (0-indexed)\n",
        "    tabs.select(\n",
        "        fn=display_all_items_ui,\n",
        "        inputs=None, # No inputs needed for display_all_items_ui\n",
        "        outputs=display_items_output, # The output DataFrame will be updated\n",
        "        queue=False # Setting queue to False for immediate execution on select\n",
        "    )\n",
        "\n",
        "    # Use the .select() method on the tabs object to trigger an action when the summary tab is selected\n",
        "    # The index for \"顯示財務總結\" is 2 (0-indexed)\n",
        "    # We will connect the button click to update both the summary text and the plot in the next step.\n",
        "    # For now, we just define the components.\n",
        "\n",
        "\n",
        "# Launch the Blocks app\n",
        "demo_blocks.launch(debug=True)"
      ]
    },
    {
      "cell_type": "markdown",
      "metadata": {
        "id": "e5ab7018"
      },
      "source": [
        "# Task\n",
        "將財務總結的結果顯示在gradio的介面，同時顯示一個三種分類消費的占比圓餅圖。"
      ]
    },
    {
      "cell_type": "markdown",
      "metadata": {
        "id": "e7f71753"
      },
      "source": [
        "## 修改財務總結函式\n",
        "\n",
        "### Subtask:\n",
        "修改 `display_financial_summary` 函式，使其返回總收入、總支出、總餘額以及各分類的支出資料。\n"
      ]
    },
    {
      "cell_type": "markdown",
      "metadata": {
        "id": "7745a494"
      },
      "source": [
        "**Reasoning**:\n",
        "The subtask requires modifying the `display_financial_summary` function to return financial data instead of printing it. I will update the function to calculate the required values and return them in a structured format.\n",
        "\n"
      ]
    },
    {
      "cell_type": "code",
      "execution_count": null,
      "metadata": {
        "id": "a5602165"
      },
      "outputs": [],
      "source": [
        "def display_financial_summary():\n",
        "    \"\"\"Reads data, calculates financial summary, and gets Gemini analysis.\"\"\"\n",
        "    try:\n",
        "        # Access the Google Sheet and read data (similar to display_all_items)\n",
        "        sheet = gc.open_by_url(\"https://docs.google.com/spreadsheets/d/1hWNTg2T0acFyg1xrtLd35HZJxOQFrg0bVyBdgcWYTJ4/edit?gid=0#gid=0\")\n",
        "        worksheet = sheet.sheet1\n",
        "        data = worksheet.get_all_values()\n",
        "\n",
        "        summary_data = {\n",
        "            \"total_income\": 0.00,\n",
        "            \"total_expense\": 0.00,\n",
        "            \"total_balance\": 0.00,\n",
        "            \"expense_by_category\": {},\n",
        "            \"gemini_analysis\": \"目前沒有足夠的資料進行分析。\" # Initialize with a default message\n",
        "        }\n",
        "\n",
        "        if len(data) > 1:\n",
        "            df = pd.DataFrame(data[1:], columns=data[0])\n",
        "\n",
        "            # Ensure '金額' column is numeric and '類型' column exists\n",
        "            df['金額'] = pd.to_numeric(df['金額'], errors='coerce')\n",
        "            df.dropna(subset=['金額'], inplace=True)\n",
        "            if '類型' not in df.columns:\n",
        "                df['類型'] = '未知' # Default category if column is missing\n",
        "\n",
        "            # Calculate total income and expenses\n",
        "            total_income = df[df['類型'] == '收入']['金額'].sum()\n",
        "            total_expense = df[df['類型'] != '收入']['金額'].sum()\n",
        "            total_balance = total_income - total_expense\n",
        "\n",
        "            # Calculate expenses by category (excluding '收入')\n",
        "            expense_by_category = df[df['類型'] != '收入'].groupby('類型')['金額'].sum().to_dict()\n",
        "\n",
        "            summary_data.update({\n",
        "                \"total_income\": total_income,\n",
        "                \"total_expense\": total_expense,\n",
        "                \"total_balance\": total_balance,\n",
        "                \"expense_by_category\": expense_by_category\n",
        "            })\n",
        "\n",
        "            # --- Add Gemini Analysis ---\n",
        "            try:\n",
        "                # Prepare data for Gemini analysis\n",
        "                analysis_prompt = f\"\"\"\n",
        "                請根據以下的財務資料進行分析並提供建議：\n",
        "\n",
        "                總收入: {total_income:.2f} 元\n",
        "                總支出: {total_expense:.2f} 元\n",
        "                總餘額: {total_balance:.2f} 元\n",
        "\n",
        "                各分類支出:\n",
        "                \"\"\"\n",
        "                if expense_by_category:\n",
        "                    for category, amount in expense_by_category.items():\n",
        "                        analysis_prompt += f\"- {category}: {amount:.2f} 元\\n\"\n",
        "                else:\n",
        "                    analysis_prompt += \"無分類支出資料。\\n\"\n",
        "\n",
        "                analysis_prompt += \"\\n請提供一個簡潔的財務分析和一些關於支出管理的建議 (請用繁體中文回答)。\"\n",
        "\n",
        "                # Ensure gemini_model is initialized (from a previous cell)\n",
        "                if 'gemini_model' in globals() and gemini_model:\n",
        "                    response = gemini_model.generate_content(analysis_prompt)\n",
        "                    summary_data[\"gemini_analysis\"] = response.text\n",
        "                else:\n",
        "                    summary_data[\"gemini_analysis\"] = \"Gemini 模型尚未初始化，無法進行分析。\"\n",
        "\n",
        "\n",
        "            except Exception as gemini_e:\n",
        "                summary_data[\"gemini_analysis\"] = f\"呼叫 Gemini API 時發生錯誤: {gemini_e}\"\n",
        "            # --- End of Gemini Analysis ---\n",
        "\n",
        "\n",
        "        return summary_data\n",
        "\n",
        "    except Exception as e:\n",
        "        print(f\"計算財務總結時發生錯誤: {e}\")\n",
        "        # Return initial summary_data with error message in analysis\n",
        "        summary_data[\"gemini_analysis\"] = f\"讀取或計算財務資料時發生錯誤: {e}\"\n",
        "        return summary_data\n",
        "\n",
        "# Modify the display_financial_summary_ui to call the updated function and handle its return\n",
        "def display_financial_summary_ui():\n",
        "    \"\"\"Calls the financial summary function and prepares data and plot for UI display.\"\"\"\n",
        "    summary_data = display_financial_summary()\n",
        "\n",
        "    # Format the summary data into a string for the Textbox output\n",
        "    summary_string = f\"財務總結:\\n\"\n",
        "    summary_string += f\"總收入: {summary_data['total_income']:.2f} 元\\n\"\n",
        "    summary_string += f\"總支出: {summary_data['total_expense']:.2f} 元\\n\"\n",
        "    summary_string += f\"總餘額: {summary_data['total_balance']:.2f} 元\\n\\n\"\n",
        "\n",
        "    summary_string += \"各分類支出:\\n\"\n",
        "    if summary_data['expense_by_category']:\n",
        "        for category, amount in summary_data['expense_by_category'].items():\n",
        "            summary_string += f\"{category}: {amount:.2f} 元\\n\"\n",
        "    else:\n",
        "        summary_string += \"無分類支出資料。\"\n",
        "\n",
        "    # Add Gemini Analysis to the summary string\n",
        "    summary_string += \"\\n\\nGemini 財務分析與建議:\\n\"\n",
        "    summary_string += summary_data.get(\"gemini_analysis\", \"無分析結果。\") # Use .get for safety\n",
        "\n",
        "\n",
        "    # Create the pie chart\n",
        "    pie_chart = create_pie_chart(summary_data['expense_by_category'])\n",
        "\n",
        "    # Return both the summary string and the pie chart (BytesIO object) and the Gemini analysis\n",
        "    return summary_string, pie_chart"
      ]
    },
    {
      "cell_type": "markdown",
      "metadata": {
        "id": "2daf40e3"
      },
      "source": [
        "## 生成圓餅圖程式碼\n",
        "\n",
        "### Subtask:\n",
        "根據分類支出資料，生成使用 matplotlib 或 plotly 繪製圓餅圖的程式碼。\n"
      ]
    },
    {
      "cell_type": "markdown",
      "metadata": {
        "id": "89cb6fd1"
      },
      "source": [
        "## 整合圖表到 gradio 介面\n",
        "\n",
        "### Subtask:\n",
        "在 `gr.Blocks` 中為財務總結分頁添加一個用於顯示圖表的 Gradio 元件（例如 `gr.Plot` 或 `gr.Image`）。\n"
      ]
    },
    {
      "cell_type": "markdown",
      "metadata": {
        "id": "27de204a"
      },
      "source": [
        "**Reasoning**:\n",
        "Add a `gr.Plot` component to the \"顯示財務總結\" tab in the `gr.Blocks` structure to display the pie chart.\n",
        "\n"
      ]
    },
    {
      "cell_type": "code",
      "execution_count": null,
      "metadata": {
        "id": "caf01b0f"
      },
      "outputs": [],
      "source": [
        "# Create a new Blocks app instance\n",
        "with gr.Blocks() as demo_blocks:\n",
        "    # Create a tabbed container\n",
        "    with gr.Tabs() as tabs:\n",
        "        # Create a TabItem for adding expense\n",
        "        with gr.TabItem(\"新增支出/收入\", id=0):\n",
        "            # Define inputs for adding expense\n",
        "            add_date_input = gr.Textbox(label=\"日期 (YYYY-MM-DD)\")\n",
        "            add_time_input = gr.Textbox(label=\"時間 (HH:MM)\")\n",
        "            add_item_input = gr.Textbox(label=\"項目\")\n",
        "            add_amount_input = gr.Textbox(label=\"金額\")\n",
        "            add_category_input = gr.Radio(['1', '2', '3'], label=\"分類：1. 收入、2. 吃喝、3. 娛樂\")\n",
        "            # Define a button to trigger the add expense function\n",
        "            add_expense_button = gr.Button(\"新增項目\")\n",
        "            # Define the output for the add expense function\n",
        "            add_expense_output = gr.Textbox(label=\"結果\")\n",
        "\n",
        "            # Link the button click to the add_expense_ui function\n",
        "            add_expense_button.click(\n",
        "                fn=add_expense_ui,\n",
        "                inputs=[add_date_input, add_time_input, add_item_input, add_amount_input, add_category_input],\n",
        "                outputs=add_expense_output\n",
        "            )\n",
        "\n",
        "\n",
        "        # Create a TabItem for displaying all items\n",
        "        with gr.TabItem(\"顯示所有記帳項目\", id=1) as display_items_tab:\n",
        "            # Define the output as a DataFrame to display the items\n",
        "            display_items_output = gr.DataFrame(label=\"所有記帳項目 (依時間排序)\")\n",
        "\n",
        "        # Create a TabItem for displaying financial summary\n",
        "        with gr.TabItem(\"顯示財務總結\", id=2) as display_summary_tab:\n",
        "             # Define the output as a Textbox to display the summary string\n",
        "             display_summary_output = gr.Textbox(label=\"財務總結\")\n",
        "             # Add a component to display the plot\n",
        "             summary_pie_chart = gr.Plot(label=\"分類支出圓餅圖\")\n",
        "             # Add a button to trigger displaying the summary and plot\n",
        "             display_summary_button = gr.Button(\"顯示財務總結與圖表\")\n",
        "\n",
        "\n",
        "    # Use the .select() method on the tabs object to trigger an action when a tab is selected\n",
        "    # The index for \"顯示所有記帳項目\" is 1 (0-indexed)\n",
        "    tabs.select(\n",
        "        fn=display_all_items_ui,\n",
        "        inputs=None, # No inputs needed for display_all_items_ui\n",
        "        outputs=display_items_output, # The output DataFrame will be updated\n",
        "        queue=False # Setting queue to False for immediate execution on select\n",
        "    )\n",
        "\n",
        "    # Use the .select() method on the tabs object to trigger an action when the summary tab is selected\n",
        "    # The index for \"顯示財務總結\" is 2 (0-indexed)\n",
        "    # We will connect the button click to update both the summary text and the plot in the next step.\n",
        "    # For now, we just define the components.\n",
        "\n",
        "\n",
        "# Launch the Blocks app (optional for this step, but good for testing structure)\n",
        "# demo_blocks.launch(debug=True)"
      ]
    },
    {
      "cell_type": "markdown",
      "metadata": {
        "id": "4e6bde14"
      },
      "source": [
        "# Task\n",
        "Create a Gradio application that allows users to add income/expense records to a Google Sheet, display all records from the sheet, and display a financial summary including total income, total expense, balance, and a pie chart of expense categories. The application should have three tabs: \"新增支出/收入\", \"顯示所有記帳項目\", and \"顯示財務總結\". The \"顯示財務總結\" tab should display the summary text and the pie chart simultaneously."
      ]
    },
    {
      "cell_type": "markdown",
      "metadata": {
        "id": "5767ace6"
      },
      "source": [
        "## 匯入必要的函式庫\n",
        "\n",
        "### Subtask:\n",
        "匯入處理資料 (pandas)、時間 (datetime, re)、Google Sheets (gspread, google.colab.auth, google.auth.default) 以及建立使用者介面 (gradio) 所需的函式庫。\n"
      ]
    },
    {
      "cell_type": "markdown",
      "metadata": {
        "id": "8a24a6c5"
      },
      "source": [
        "**Reasoning**:\n",
        "Import the necessary libraries for data handling, time processing, Google Sheets interaction, UI creation, and plotting, as specified in the instructions and not already imported in previous cells.\n",
        "\n"
      ]
    },
    {
      "cell_type": "code",
      "execution_count": null,
      "metadata": {
        "id": "5e00659f"
      },
      "outputs": [],
      "source": [
        "import pandas as pd\n",
        "from datetime import datetime\n",
        "import re\n",
        "import gspread\n",
        "from google.colab import auth\n",
        "from google.auth import default\n",
        "import gradio as gr\n",
        "import matplotlib.pyplot as plt\n",
        "import io\n",
        "import base64"
      ]
    },
    {
      "cell_type": "markdown",
      "metadata": {
        "id": "613936f7"
      },
      "source": [
        "# Task\n",
        "在財務總結中加入 Gemini 的分析結果。"
      ]
    },
    {
      "cell_type": "markdown",
      "metadata": {
        "id": "f5cdbbcc"
      },
      "source": [
        "## 設定 gemini api\n",
        "\n",
        "### Subtask:\n",
        "安裝並設定 Gemini API 的 Python 客戶端。\n"
      ]
    },
    {
      "cell_type": "markdown",
      "metadata": {
        "id": "09c62564"
      },
      "source": [
        "**Reasoning**:\n",
        "Install the required library for Gemini API.\n",
        "\n"
      ]
    },
    {
      "cell_type": "markdown",
      "metadata": {
        "id": "1832492f"
      },
      "source": [
        "# Task\n",
        "在財務總結欄中加入Gemini的分析"
      ]
    },
    {
      "cell_type": "markdown",
      "metadata": {
        "id": "9453e15f"
      },
      "source": [
        "## 修改財務總結函式\n",
        "\n",
        "### Subtask:\n",
        "修改 `display_financial_summary` 函式，使其在計算總結後，將總結資料傳送給 Gemini API 進行分析，並將分析結果一併返回。\n"
      ]
    },
    {
      "cell_type": "markdown",
      "metadata": {
        "id": "f770ad7b"
      },
      "source": [
        "**Reasoning**:\n",
        "Modify the `display_financial_summary` function to include the Gemini API call and return the analysis along with the financial data. This involves adding the prompt construction, API call, result extraction, and error handling as described in the instructions.\n",
        "\n"
      ]
    },
    {
      "cell_type": "code",
      "metadata": {
        "id": "11d9e670"
      },
      "source": [
        "def display_financial_summary():\n",
        "    \"\"\"Reads data, calculates financial summary, and gets Gemini analysis.\"\"\"\n",
        "    try:\n",
        "        # Access the Google Sheet and read data (similar to display_all_items)\n",
        "        sheet = gc.open_by_url(\"https://docs.google.com/spreadsheets/d/1hWNTg2T0acFyg1xrtLd35HZJxOQFrg0bVyBdgcWYTJ4/edit?gid=0#gid=0\")\n",
        "        worksheet = sheet.sheet1\n",
        "        data = worksheet.get_all_values()\n",
        "\n",
        "        summary_data = {\n",
        "            \"total_income\": 0.00,\n",
        "            \"total_expense\": 0.00,\n",
        "            \"total_balance\": 0.00,\n",
        "            \"expense_by_category\": {},\n",
        "            \"gemini_analysis\": \"目前沒有足夠的資料進行分析。\" # Initialize with a default message\n",
        "        }\n",
        "\n",
        "        if len(data) > 1:\n",
        "            df = pd.DataFrame(data[1:], columns=data[0])\n",
        "\n",
        "            # Ensure '金額' column is numeric and '類型' column exists\n",
        "            df['金額'] = pd.to_numeric(df['金額'], errors='coerce')\n",
        "            df.dropna(subset=['金額'], inplace=True)\n",
        "            if '類型' not in df.columns:\n",
        "                df['類型'] = '未知' # Default category if column is missing\n",
        "\n",
        "            # Calculate total income and expenses\n",
        "            total_income = df[df['類型'] == '收入']['金額'].sum()\n",
        "            total_expense = df[df['類型'] != '收入']['金額'].sum()\n",
        "            total_balance = total_income - total_expense\n",
        "\n",
        "            # Calculate expenses by category (excluding '收入')\n",
        "            expense_by_category = df[df['類型'] != '收入'].groupby('類型')['金額'].sum().to_dict()\n",
        "\n",
        "            summary_data.update({\n",
        "                \"total_income\": total_income,\n",
        "                \"total_expense\": total_expense,\n",
        "                \"total_balance\": total_balance,\n",
        "                \"expense_by_category\": expense_by_category\n",
        "            })\n",
        "\n",
        "            # --- Add Gemini Analysis ---\n",
        "            try:\n",
        "                # Prepare data for Gemini analysis\n",
        "                analysis_prompt = f\"\"\"\n",
        "                請根據以下的財務資料進行分析並提供建議：\n",
        "\n",
        "                總收入: {total_income:.2f} 元\n",
        "                總支出: {total_expense:.2f} 元\n",
        "                總餘額: {total_balance:.2f} 元\n",
        "\n",
        "                各分類支出:\n",
        "                \"\"\"\n",
        "                if expense_by_category:\n",
        "                    for category, amount in expense_by_category.items():\n",
        "                        analysis_prompt += f\"- {category}: {amount:.2f} 元\\n\"\n",
        "                else:\n",
        "                    analysis_prompt += \"無分類支出資料。\\n\"\n",
        "\n",
        "                analysis_prompt += \"\\n請提供一個簡潔的財務分析和一些關於支出管理的建議 (請用繁體中文回答)。\"\n",
        "\n",
        "                # Ensure gemini_model is initialized (from a previous cell)\n",
        "                if 'gemini_model' in globals() and gemini_model:\n",
        "                    response = gemini_model.generate_content(analysis_prompt)\n",
        "                    summary_data[\"gemini_analysis\"] = response.text\n",
        "                else:\n",
        "                    summary_data[\"gemini_analysis\"] = \"Gemini 模型尚未初始化，無法進行分析。\"\n",
        "\n",
        "\n",
        "            except Exception as gemini_e:\n",
        "                summary_data[\"gemini_analysis\"] = f\"呼叫 Gemini API 時發生錯誤: {gemini_e}\"\n",
        "            # --- End of Gemini Analysis ---\n",
        "\n",
        "\n",
        "        return summary_data\n",
        "\n",
        "    except Exception as e:\n",
        "        print(f\"計算財務總結時發生錯誤: {e}\")\n",
        "        # Return initial summary_data with error message in analysis\n",
        "        summary_data[\"gemini_analysis\"] = f\"讀取或計算財務資料時發生錯誤: {e}\"\n",
        "        return summary_data"
      ],
      "execution_count": null,
      "outputs": []
    },
    {
      "cell_type": "code",
      "metadata": {
        "colab": {
          "base_uri": "https://localhost:8080/"
        },
        "id": "4c0a6ef4",
        "outputId": "36f6d568-6993-494a-b727-06c057b62667"
      },
      "source": [
        "# Install the font package\n",
        "!apt-get update -qq\n",
        "!apt-get install -qq ttf-wqy-zenhei\n",
        "\n",
        "# Clear matplotlib's font cache\n",
        "import matplotlib.font_manager as fm\n",
        "fm.fontManager.ttflist.clear()\n",
        "fm.cachedir = ''\n",
        "!rm -rf /root/.cache/matplotlib\n",
        "\n",
        "print(\"字體安裝完成並清除 Matplotlib 字體快取。請重新執行繪製圖表的儲存格。\")"
      ],
      "execution_count": 12,
      "outputs": [
        {
          "output_type": "stream",
          "name": "stdout",
          "text": [
            "W: Skipping acquire of configured file 'main/source/Sources' as repository 'https://r2u.stat.illinois.edu/ubuntu jammy InRelease' does not seem to provide it (sources.list entry misspelt?)\n",
            "字體安裝完成並清除 Matplotlib 字體快取。請重新執行繪製圖表的儲存格。\n"
          ]
        }
      ]
    },
    {
      "cell_type": "markdown",
      "metadata": {
        "id": "e2ef8a79"
      },
      "source": [
        "## 更新 gradio 介面\n",
        "\n",
        "### Subtask:\n",
        "在「顯示財務總結」分頁中添加一個新的 Gradio 元件，用於顯示 Gemini API 返回的分析結果。\n"
      ]
    },
    {
      "cell_type": "markdown",
      "metadata": {
        "id": "d4d410bc"
      },
      "source": [
        "**Reasoning**:\n",
        "Add a `gr.Textbox` component to the \"顯示財務總結\" tab in the `gr.Blocks` structure to display the Gemini analysis.\n",
        "\n"
      ]
    },
    {
      "cell_type": "code",
      "metadata": {
        "colab": {
          "base_uri": "https://localhost:8080/",
          "height": 1000
        },
        "id": "af3e11ce",
        "outputId": "23c65f49-27a8-40ad-f6f9-93485a2ae9d0"
      },
      "source": [
        "# Create a new Blocks app instance\n",
        "with gr.Blocks() as demo_blocks:\n",
        "    # Create a tabbed container\n",
        "    with gr.Tabs() as tabs:\n",
        "        # Create a TabItem for adding expense\n",
        "        with gr.TabItem(\"新增支出/收入\", id=0):\n",
        "            # Define inputs for adding expense (using Traditional Chinese labels)\n",
        "            add_date_input = gr.Textbox(label=\"請輸入日期 (YYYY-MM-DD)\")\n",
        "            add_time_input = gr.Textbox(label=\"請輸入時間 (HH:MM)\")\n",
        "            add_item_input = gr.Textbox(label=\"請輸入項目\")\n",
        "            add_amount_input = gr.Textbox(label=\"請輸入金額\")\n",
        "            add_category_input = gr.Radio(['1', '2', '3'], label=\"請選擇分類：1. 收入、2. 吃喝、3. 娛樂\")\n",
        "            # Define a button to trigger the add expense function (using Traditional Chinese label)\n",
        "            add_expense_button = gr.Button(\"新增項目\")\n",
        "            # Define the output for the add expense function (using Traditional Chinese label)\n",
        "            add_expense_output = gr.Textbox(label=\"結果訊息\")\n",
        "\n",
        "            # Link the button click to the add_expense_ui function\n",
        "            add_expense_button.click(\n",
        "                fn=add_expense_ui,\n",
        "                inputs=[add_date_input, add_time_input, add_item_input, add_amount_input, add_category_input],\n",
        "                outputs=add_expense_output\n",
        "            )\n",
        "\n",
        "\n",
        "        # Create a TabItem for displaying financial summary (using Traditional Chinese label)\n",
        "        # Update id to 1 as the previous tab is removed\n",
        "        with gr.TabItem(\"顯示財務總結\", id=1) as display_summary_tab:\n",
        "             # Define the output as a Textbox to display the summary string (using Traditional Chinese label)\n",
        "             display_summary_output = gr.Textbox(label=\"財務總結\")\n",
        "             # Remove the component to display the plot\n",
        "             # summary_pie_chart = gr.Plot(label=\"分類支出圓餅圖\")\n",
        "             # Add a component to display the Gemini analysis (using Traditional Chinese label)\n",
        "             gemini_analysis_output = gr.Textbox(label=\"Gemini 財務分析與建議\")\n",
        "             # Add a button to trigger displaying the summary and plot (using Traditional Chinese label)\n",
        "             display_summary_button = gr.Button(\"顯示財務總結與分析\")\n",
        "\n",
        "             # Link the button click to the display_financial_summary_ui function\n",
        "             # Update outputs to only expect summary string and Gemini analysis\n",
        "             display_summary_button.click(\n",
        "                 fn=display_financial_summary_ui,\n",
        "                 inputs=None, # No inputs needed\n",
        "                 outputs=[display_summary_output, gemini_analysis_output] # Output text and Gemini analysis\n",
        "             )\n",
        "\n",
        "\n",
        "    # Remove the .select() method for the display_all_items_ui tab\n",
        "    # Use the .select() method on the tabs object to trigger an action when a tab is selected\n",
        "    # The index for \"顯示所有記帳項目\" was 1 (0-indexed)\n",
        "    # tabs.select(\n",
        "    #     fn=display_all_items_ui,\n",
        "    #     inputs=None, # No inputs needed for display_all_items_ui\n",
        "    #     outputs=display_items_output, # The output DataFrame will be updated\n",
        "    #     queue=False # Setting queue to False for immediate execution on select\n",
        "    # )\n",
        "\n",
        "    # Use the .select() method on the tabs object to trigger an action when the summary tab is selected\n",
        "    # The index for \"顯示財務總結\" is now 1 (0-indexed)\n",
        "    # We will connect the button click to update both the summary text and the plot in the next step.\n",
        "    # For now, we just define the components.\n",
        "\n",
        "\n",
        "# Launch the Blocks app\n",
        "demo_blocks.launch(debug=True)\n",
        "\n",
        "# Modify the display_financial_summary_ui function to only return two values\n",
        "def display_financial_summary_ui():\n",
        "    \"\"\"Calls the financial summary function and prepares data for UI display.\"\"\"\n",
        "    summary_data = display_financial_summary()\n",
        "\n",
        "    # Format the summary data into a string for the Textbox output\n",
        "    summary_string = f\"財務總結:\\n\"\n",
        "    summary_string += f\"總收入: {summary_data['total_income']:.2f} 元\\n\"\n",
        "    summary_string += f\"總支出: {summary_data['total_expense']:.2f} 元\\n\"\n",
        "    summary_string += f\"總餘額: {summary_data['total_balance']:.2f} 元\\n\\n\" # Corrected variable name\n",
        "\n",
        "    summary_string += \"各分類支出:\\n\"\n",
        "    if summary_data['expense_by_category']:\n",
        "        for category, amount in summary_data['expense_by_category'].items():\n",
        "            summary_string += f\"{category}: {amount:.2f} 元\\n\"\n",
        "    else:\n",
        "        summary_string += \"無分類支出資料。\"\n",
        "\n",
        "    # Return the summary string and the Gemini analysis\n",
        "    return summary_string, summary_data.get(\"gemini_analysis\", \"無分析結果。\")"
      ],
      "execution_count": null,
      "outputs": [
        {
          "output_type": "stream",
          "name": "stdout",
          "text": [
            "It looks like you are running Gradio on a hosted Jupyter notebook, which requires `share=True`. Automatically setting `share=True` (you can turn this off by setting `share=False` in `launch()` explicitly).\n",
            "\n",
            "Colab notebook detected. This cell will run indefinitely so that you can see errors and logs. To turn off, set debug=False in launch().\n",
            "* Running on public URL: https://98a6796a54786e5c13.gradio.live\n",
            "\n",
            "This share link expires in 1 week. For free permanent hosting and GPU upgrades, run `gradio deploy` from the terminal in the working directory to deploy to Hugging Face Spaces (https://huggingface.co/spaces)\n"
          ]
        },
        {
          "output_type": "display_data",
          "data": {
            "text/plain": [
              "<IPython.core.display.HTML object>"
            ],
            "text/html": [
              "<div><iframe src=\"https://98a6796a54786e5c13.gradio.live\" width=\"100%\" height=\"500\" allow=\"autoplay; camera; microphone; clipboard-read; clipboard-write;\" frameborder=\"0\" allowfullscreen></iframe></div>"
            ]
          },
          "metadata": {}
        },
        {
          "output_type": "stream",
          "name": "stderr",
          "text": [
            "Traceback (most recent call last):\n",
            "  File \"/usr/local/lib/python3.12/dist-packages/gradio/queueing.py\", line 745, in process_events\n",
            "    response = await route_utils.call_process_api(\n",
            "               ^^^^^^^^^^^^^^^^^^^^^^^^^^^^^^^^^^^\n",
            "  File \"/usr/local/lib/python3.12/dist-packages/gradio/route_utils.py\", line 354, in call_process_api\n",
            "    output = await app.get_blocks().process_api(\n",
            "             ^^^^^^^^^^^^^^^^^^^^^^^^^^^^^^^^^^^\n",
            "  File \"/usr/local/lib/python3.12/dist-packages/gradio/blocks.py\", line 2116, in process_api\n",
            "    result = await self.call_function(\n",
            "             ^^^^^^^^^^^^^^^^^^^^^^^^^\n",
            "  File \"/usr/local/lib/python3.12/dist-packages/gradio/blocks.py\", line 1623, in call_function\n",
            "    prediction = await anyio.to_thread.run_sync(  # type: ignore\n",
            "                 ^^^^^^^^^^^^^^^^^^^^^^^^^^^^^^^^^^^^^^^^^^^^^^^\n",
            "  File \"/usr/local/lib/python3.12/dist-packages/anyio/to_thread.py\", line 56, in run_sync\n",
            "    return await get_async_backend().run_sync_in_worker_thread(\n",
            "           ^^^^^^^^^^^^^^^^^^^^^^^^^^^^^^^^^^^^^^^^^^^^^^^^^^^^\n",
            "  File \"/usr/local/lib/python3.12/dist-packages/anyio/_backends/_asyncio.py\", line 2485, in run_sync_in_worker_thread\n",
            "    return await future\n",
            "           ^^^^^^^^^^^^\n",
            "  File \"/usr/local/lib/python3.12/dist-packages/anyio/_backends/_asyncio.py\", line 976, in run\n",
            "    result = context.run(func, *args)\n",
            "             ^^^^^^^^^^^^^^^^^^^^^^^^\n",
            "  File \"/usr/local/lib/python3.12/dist-packages/gradio/utils.py\", line 915, in wrapper\n",
            "    response = f(*args, **kwargs)\n",
            "               ^^^^^^^^^^^^^^^^^^\n",
            "  File \"/tmp/ipython-input-2026684743.py\", line 75, in display_financial_summary_ui\n",
            "    summary_string += f\"總餘額: {total_balance:.2f} 元\\n\\n\" # Corrected variable name\n",
            "                                 ^^^^^^^^^^^^^\n",
            "NameError: name 'total_balance' is not defined\n",
            "Traceback (most recent call last):\n",
            "  File \"/usr/local/lib/python3.12/dist-packages/gradio/queueing.py\", line 745, in process_events\n",
            "    response = await route_utils.call_process_api(\n",
            "               ^^^^^^^^^^^^^^^^^^^^^^^^^^^^^^^^^^^\n",
            "  File \"/usr/local/lib/python3.12/dist-packages/gradio/route_utils.py\", line 354, in call_process_api\n",
            "    output = await app.get_blocks().process_api(\n",
            "             ^^^^^^^^^^^^^^^^^^^^^^^^^^^^^^^^^^^\n",
            "  File \"/usr/local/lib/python3.12/dist-packages/gradio/blocks.py\", line 2116, in process_api\n",
            "    result = await self.call_function(\n",
            "             ^^^^^^^^^^^^^^^^^^^^^^^^^\n",
            "  File \"/usr/local/lib/python3.12/dist-packages/gradio/blocks.py\", line 1623, in call_function\n",
            "    prediction = await anyio.to_thread.run_sync(  # type: ignore\n",
            "                 ^^^^^^^^^^^^^^^^^^^^^^^^^^^^^^^^^^^^^^^^^^^^^^^\n",
            "  File \"/usr/local/lib/python3.12/dist-packages/anyio/to_thread.py\", line 56, in run_sync\n",
            "    return await get_async_backend().run_sync_in_worker_thread(\n",
            "           ^^^^^^^^^^^^^^^^^^^^^^^^^^^^^^^^^^^^^^^^^^^^^^^^^^^^\n",
            "  File \"/usr/local/lib/python3.12/dist-packages/anyio/_backends/_asyncio.py\", line 2485, in run_sync_in_worker_thread\n",
            "    return await future\n",
            "           ^^^^^^^^^^^^\n",
            "  File \"/usr/local/lib/python3.12/dist-packages/anyio/_backends/_asyncio.py\", line 976, in run\n",
            "    result = context.run(func, *args)\n",
            "             ^^^^^^^^^^^^^^^^^^^^^^^^\n",
            "  File \"/usr/local/lib/python3.12/dist-packages/gradio/utils.py\", line 915, in wrapper\n",
            "    response = f(*args, **kwargs)\n",
            "               ^^^^^^^^^^^^^^^^^^\n",
            "  File \"/tmp/ipython-input-2026684743.py\", line 75, in display_financial_summary_ui\n",
            "    summary_string += f\"總餘額: {total_balance:.2f} 元\\n\\n\" # Corrected variable name\n",
            "                                 ^^^^^^^^^^^^^\n",
            "NameError: name 'total_balance' is not defined\n",
            "Traceback (most recent call last):\n",
            "  File \"/usr/local/lib/python3.12/dist-packages/gradio/queueing.py\", line 745, in process_events\n",
            "    response = await route_utils.call_process_api(\n",
            "               ^^^^^^^^^^^^^^^^^^^^^^^^^^^^^^^^^^^\n",
            "  File \"/usr/local/lib/python3.12/dist-packages/gradio/route_utils.py\", line 354, in call_process_api\n",
            "    output = await app.get_blocks().process_api(\n",
            "             ^^^^^^^^^^^^^^^^^^^^^^^^^^^^^^^^^^^\n",
            "  File \"/usr/local/lib/python3.12/dist-packages/gradio/blocks.py\", line 2116, in process_api\n",
            "    result = await self.call_function(\n",
            "             ^^^^^^^^^^^^^^^^^^^^^^^^^\n",
            "  File \"/usr/local/lib/python3.12/dist-packages/gradio/blocks.py\", line 1623, in call_function\n",
            "    prediction = await anyio.to_thread.run_sync(  # type: ignore\n",
            "                 ^^^^^^^^^^^^^^^^^^^^^^^^^^^^^^^^^^^^^^^^^^^^^^^\n",
            "  File \"/usr/local/lib/python3.12/dist-packages/anyio/to_thread.py\", line 56, in run_sync\n",
            "    return await get_async_backend().run_sync_in_worker_thread(\n",
            "           ^^^^^^^^^^^^^^^^^^^^^^^^^^^^^^^^^^^^^^^^^^^^^^^^^^^^\n",
            "  File \"/usr/local/lib/python3.12/dist-packages/anyio/_backends/_asyncio.py\", line 2485, in run_sync_in_worker_thread\n",
            "    return await future\n",
            "           ^^^^^^^^^^^^\n",
            "  File \"/usr/local/lib/python3.12/dist-packages/anyio/_backends/_asyncio.py\", line 976, in run\n",
            "    result = context.run(func, *args)\n",
            "             ^^^^^^^^^^^^^^^^^^^^^^^^\n",
            "  File \"/usr/local/lib/python3.12/dist-packages/gradio/utils.py\", line 915, in wrapper\n",
            "    response = f(*args, **kwargs)\n",
            "               ^^^^^^^^^^^^^^^^^^\n",
            "  File \"/tmp/ipython-input-2026684743.py\", line 75, in display_financial_summary_ui\n",
            "    summary_string += f\"總餘額: {total_balance:.2f} 元\\n\\n\" # Corrected variable name\n",
            "                                 ^^^^^^^^^^^^^\n",
            "NameError: name 'total_balance' is not defined\n",
            "Traceback (most recent call last):\n",
            "  File \"/usr/local/lib/python3.12/dist-packages/gradio/queueing.py\", line 745, in process_events\n",
            "    response = await route_utils.call_process_api(\n",
            "               ^^^^^^^^^^^^^^^^^^^^^^^^^^^^^^^^^^^\n",
            "  File \"/usr/local/lib/python3.12/dist-packages/gradio/route_utils.py\", line 354, in call_process_api\n",
            "    output = await app.get_blocks().process_api(\n",
            "             ^^^^^^^^^^^^^^^^^^^^^^^^^^^^^^^^^^^\n",
            "  File \"/usr/local/lib/python3.12/dist-packages/gradio/blocks.py\", line 2116, in process_api\n",
            "    result = await self.call_function(\n",
            "             ^^^^^^^^^^^^^^^^^^^^^^^^^\n",
            "  File \"/usr/local/lib/python3.12/dist-packages/gradio/blocks.py\", line 1623, in call_function\n",
            "    prediction = await anyio.to_thread.run_sync(  # type: ignore\n",
            "                 ^^^^^^^^^^^^^^^^^^^^^^^^^^^^^^^^^^^^^^^^^^^^^^^\n",
            "  File \"/usr/local/lib/python3.12/dist-packages/anyio/to_thread.py\", line 56, in run_sync\n",
            "    return await get_async_backend().run_sync_in_worker_thread(\n",
            "           ^^^^^^^^^^^^^^^^^^^^^^^^^^^^^^^^^^^^^^^^^^^^^^^^^^^^\n",
            "  File \"/usr/local/lib/python3.12/dist-packages/anyio/_backends/_asyncio.py\", line 2485, in run_sync_in_worker_thread\n",
            "    return await future\n",
            "           ^^^^^^^^^^^^\n",
            "  File \"/usr/local/lib/python3.12/dist-packages/anyio/_backends/_asyncio.py\", line 976, in run\n",
            "    result = context.run(func, *args)\n",
            "             ^^^^^^^^^^^^^^^^^^^^^^^^\n",
            "  File \"/usr/local/lib/python3.12/dist-packages/gradio/utils.py\", line 915, in wrapper\n",
            "    response = f(*args, **kwargs)\n",
            "               ^^^^^^^^^^^^^^^^^^\n",
            "  File \"/tmp/ipython-input-2026684743.py\", line 75, in display_financial_summary_ui\n",
            "    summary_string += f\"總餘額: {total_balance:.2f} 元\\n\\n\" # Corrected variable name\n",
            "                                 ^^^^^^^^^^^^^\n",
            "NameError: name 'total_balance' is not defined\n"
          ]
        }
      ]
    }
  ],
  "metadata": {
    "colab": {
      "provenance": [],
      "authorship_tag": "ABX9TyOUOT96lXEdX6/LskkGKh5J",
      "include_colab_link": true
    },
    "kernelspec": {
      "display_name": "Python 3",
      "name": "python3"
    },
    "language_info": {
      "name": "python"
    }
  },
  "nbformat": 4,
  "nbformat_minor": 0
}